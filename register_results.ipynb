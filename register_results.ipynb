{
 "cells": [
  {
   "cell_type": "code",
   "execution_count": 1,
   "id": "e32bcac1",
   "metadata": {},
   "outputs": [
    {
     "name": "stdout",
     "output_type": "stream",
     "text": [
      "Jupyter environment detected. Enabling Open3D WebVisualizer.\n",
      "[Open3D INFO] WebRTC GUI backend enabled.\n",
      "[Open3D INFO] WebRTCWindowSystem: HTTP handshake server disabled.\n",
      "[Open3D INFO] Resetting default logger to print to terminal.\n"
     ]
    }
   ],
   "source": [
    "import open3d as o3d\n",
    "import numpy as np\n",
    "import os\n",
    "from open3d.web_visualizer import draw\n",
    "\n",
    "from utils.depth_utils import *\n",
    "from utils.register_utils import *\n",
    "\n",
    "output_dir = \"output_archived_1\""
   ]
  },
  {
   "cell_type": "code",
   "execution_count": 15,
   "id": "98d77ef4",
   "metadata": {},
   "outputs": [
    {
     "name": "stdout",
     "output_type": "stream",
     "text": [
      "[INFO] Registering mesh to original point cloud...\n",
      "[Open3D INFO] Window window_7 created.\n"
     ]
    },
    {
     "data": {
      "application/vnd.jupyter.widget-view+json": {
       "model_id": "579a655ebfb043a28a1360847c85ef17",
       "version_major": 2,
       "version_minor": 0
      },
      "text/plain": [
       "WebVisualizer(window_uid='window_7')"
      ]
     },
     "metadata": {},
     "output_type": "display_data"
    }
   ],
   "source": [
    "# Register the mesh to the original point cloud\n",
    "print(\"[INFO] Registering mesh to original point cloud...\")\n",
    "\n",
    "# object_id = args.obj_id\n",
    "object_id = \"05117\"\\\n",
    "\n",
    "np.random.seed(4)\n",
    "\n",
    "# Load the ground truth mesh\n",
    "complete_pcd = o3d.io.read_triangle_mesh(f\"./redwood_dataset/GT/{object_id}.ply\")\n",
    "complete_pcd = complete_pcd.sample_points_uniformly(number_of_points=16384)\n",
    "complete_pcd.points = o3d.utility.Vector3dVector(-np.asarray(complete_pcd.points))\n",
    "translate = -complete_pcd.get_center()\n",
    "complete_pcd = complete_pcd.translate(translate)\n",
    "scale = 0.5 / np.max(np.linalg.norm(np.asarray(complete_pcd.points), axis=1))\n",
    "complete_pcd = complete_pcd.scale(scale, center=complete_pcd.get_center())\n",
    "\n",
    "# Load the partial point cloud\n",
    "partial_pcd = o3d.io.read_point_cloud(f\"./redwood_dataset/point_clouds/{object_id}.ply\")\n",
    "partial_pcd.points = o3d.utility.Vector3dVector(-np.asarray(partial_pcd.points))\n",
    "partial_pcd = partial_pcd.translate(translate)\n",
    "partial_pcd = partial_pcd.scale(scale, center=complete_pcd.get_center())\n",
    "partial_pcd = partial_pcd.farthest_point_down_sample(num_samples=16384)\n",
    "\n",
    "# Load the generated mesh\n",
    "mesh = o3d.io.read_triangle_mesh(os.path.join(output_dir, f\"{object_id}_mesh.ply\"))\n",
    "# Normalize the mesh\n",
    "mesh = mesh.translate(-mesh.get_center())\n",
    "mesh = mesh.scale(0.5 / np.max(np.linalg.norm(np.asarray(mesh.vertices), axis=1)), center=mesh.get_center())\n",
    "mesh_pcd = mesh.sample_points_uniformly(number_of_points=16384)\n",
    "mesh_pcd.points = o3d.utility.Vector3dVector(np.asarray(mesh_pcd.points) * np.array([-1, 1, 1]))\n",
    "\n",
    "# Visualize the partial point cloud and the mesh\n",
    "mesh_pcd.paint_uniform_color([0,0,1])\n",
    "partial_pcd.paint_uniform_color([1, 0, 0])\n",
    "complete_pcd.paint_uniform_color([0, 1, 0])\n",
    "\n",
    "# Draw the partial point cloud and the mesh\n",
    "draw([partial_pcd, mesh_pcd, complete_pcd])"
   ]
  },
  {
   "cell_type": "code",
   "execution_count": 16,
   "id": "01fc55f0",
   "metadata": {},
   "outputs": [
    {
     "name": "stdout",
     "output_type": "stream",
     "text": [
      "\u001b[1;33m[Open3D WARNING] Too few correspondences (1420) after mutual filter, fall back to original correspondences.\u001b[0;m\n",
      "\u001b[1;33m[Open3D WARNING] Too few correspondences (1418) after mutual filter, fall back to original correspondences.\u001b[0;m\n",
      "\u001b[1;33m[Open3D WARNING] Too few correspondences (1418) after mutual filter, fall back to original correspondences.\u001b[0;m\n",
      "\u001b[1;33m[Open3D WARNING] Too few correspondences (1418) after mutual filter, fall back to original correspondences.\u001b[0;m\n",
      "\u001b[1;33m[Open3D WARNING] Too few correspondences (1420) after mutual filter, fall back to original correspondences.\u001b[0;m\n",
      "\u001b[1;33m[Open3D WARNING] Too few correspondences (1420) after mutual filter, fall back to original correspondences.\u001b[0;m\n",
      "\u001b[1;33m[Open3D WARNING] Too few correspondences (1420) after mutual filter, fall back to original correspondences.\u001b[0;m\n",
      "\u001b[1;33m[Open3D WARNING] Too few correspondences (1418) after mutual filter, fall back to original correspondences.\u001b[0;m\n",
      "\u001b[1;33m[Open3D WARNING] Too few correspondences (1419) after mutual filter, fall back to original correspondences.\u001b[0;m\n",
      "\u001b[1;33m[Open3D WARNING] Too few correspondences (1420) after mutual filter, fall back to original correspondences.\u001b[0;m\n",
      "\u001b[1;33m[Open3D WARNING] Too few correspondences (1419) after mutual filter, fall back to original correspondences.\u001b[0;m\n",
      "\u001b[1;33m[Open3D WARNING] Too few correspondences (1418) after mutual filter, fall back to original correspondences.\u001b[0;m\n",
      "\u001b[1;33m[Open3D WARNING] Too few correspondences (1419) after mutual filter, fall back to original correspondences.\u001b[0;m\n",
      "\u001b[1;33m[Open3D WARNING] Too few correspondences (1420) after mutual filter, fall back to original correspondences.\u001b[0;m\n",
      "\u001b[1;33m[Open3D WARNING] Too few correspondences (1419) after mutual filter, fall back to original correspondences.\u001b[0;m\n",
      "\u001b[1;33m[Open3D WARNING] Too few correspondences (1420) after mutual filter, fall back to original correspondences.\u001b[0;m\n",
      "\u001b[1;33m[Open3D WARNING] Too few correspondences (1418) after mutual filter, fall back to original correspondences.\u001b[0;m\n",
      "\u001b[1;33m[Open3D WARNING] Too few correspondences (1420) after mutual filter, fall back to original correspondences.\u001b[0;m\n",
      "Chamfer Distance: 0.019898630027352242\n"
     ]
    }
   ],
   "source": [
    "# Register the mesh to the original point cloud\n",
    "scales = np.arange(0.8, 1.25, 0.025)\n",
    "# scales = np.meshgrid(scales, scales, scales)\n",
    "# scales = np.array(scales).reshape(3, -1).T\n",
    "# print(f\"Number of scales: {scales[..., None].shape}\")\n",
    "transformation = multiscale_registration(mesh_pcd, partial_pcd, scales, voxel_size=0.005)\n",
    "\n",
    "mesh_pcd.transform(transformation)\n",
    "\n",
    "# Compute the chamfer distance\n",
    "cd_o3d = (np.mean(complete_pcd.compute_point_cloud_distance(mesh_pcd)) + \\\n",
    "    np.mean(mesh_pcd.compute_point_cloud_distance(complete_pcd))) / 2\n",
    "print(f\"Chamfer Distance: {cd_o3d}\")\n",
    "\n",
    "# from utils.chamfer_python import distChamfer\n",
    "# cd_left, cd_right, index_left, index_right = distChamfer(torch.tensor(np.asarray(complete_pcd.points)).unsqueeze(0), \n",
    "#                  torch.tensor(np.asarray(mesh_pcd.points)).unsqueeze(0))\n",
    "# print(cd_left.shape, cd_right.shape)\n",
    "# cd = (cd_left.sqrt().mean(dim=1) + cd_right.sqrt().mean(dim=1))\n",
    "# print(f\"Chamfer Distance (PyTorch): {cd.item()}\")"
   ]
  },
  {
   "cell_type": "code",
   "execution_count": 17,
   "id": "7867a653",
   "metadata": {},
   "outputs": [
    {
     "name": "stdout",
     "output_type": "stream",
     "text": [
      "[Open3D INFO] Window window_8 created.\n"
     ]
    },
    {
     "data": {
      "application/vnd.jupyter.widget-view+json": {
       "model_id": "276bfd72498e4ffeb979abf1f36b8eb9",
       "version_major": 2,
       "version_minor": 0
      },
      "text/plain": [
       "WebVisualizer(window_uid='window_8')"
      ]
     },
     "metadata": {},
     "output_type": "display_data"
    }
   ],
   "source": [
    "\n",
    "draw([mesh_pcd, partial_pcd, complete_pcd])"
   ]
  },
  {
   "cell_type": "code",
   "execution_count": null,
   "id": "4f3421fe",
   "metadata": {},
   "outputs": [],
   "source": []
  },
  {
   "cell_type": "code",
   "execution_count": null,
   "id": "b54a02c7",
   "metadata": {},
   "outputs": [],
   "source": []
  }
 ],
 "metadata": {
  "kernelspec": {
   "display_name": "LGM",
   "language": "python",
   "name": "python3"
  },
  "language_info": {
   "codemirror_mode": {
    "name": "ipython",
    "version": 3
   },
   "file_extension": ".py",
   "mimetype": "text/x-python",
   "name": "python",
   "nbconvert_exporter": "python",
   "pygments_lexer": "ipython3",
   "version": "3.11.5"
  }
 },
 "nbformat": 4,
 "nbformat_minor": 5
}
