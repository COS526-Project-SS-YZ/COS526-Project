{
 "cells": [
  {
   "cell_type": "code",
   "execution_count": 1,
   "id": "e32bcac1",
   "metadata": {},
   "outputs": [
    {
     "name": "stdout",
     "output_type": "stream",
     "text": [
      "Jupyter environment detected. Enabling Open3D WebVisualizer.\n",
      "[Open3D INFO] WebRTC GUI backend enabled.\n",
      "[Open3D INFO] WebRTCWindowSystem: HTTP handshake server disabled.\n",
      "[Open3D INFO] Resetting default logger to print to terminal.\n"
     ]
    }
   ],
   "source": [
    "import open3d as o3d\n",
    "import numpy as np\n",
    "import os\n",
    "from open3d.web_visualizer import draw\n",
    "\n",
    "from utils.depth_utils import *\n",
    "from utils.register_utils import *\n",
    "\n",
    "output_dir = \"output\""
   ]
  },
  {
   "cell_type": "code",
   "execution_count": 5,
   "id": "98d77ef4",
   "metadata": {},
   "outputs": [
    {
     "name": "stdout",
     "output_type": "stream",
     "text": [
      "[INFO] Registering mesh to original point cloud...\n",
      "[Open3D INFO] Window window_5 created.\n"
     ]
    },
    {
     "data": {
      "application/vnd.jupyter.widget-view+json": {
       "model_id": "ea3502d1a0904f7796c7557d70246fb6",
       "version_major": 2,
       "version_minor": 0
      },
      "text/plain": [
       "WebVisualizer(window_uid='window_5')"
      ]
     },
     "metadata": {},
     "output_type": "display_data"
    }
   ],
   "source": [
    "# Register the mesh to the original point cloud\n",
    "print(\"[INFO] Registering mesh to original point cloud...\")\n",
    "\n",
    "# object_id = args.obj_id\n",
    "object_id = \"06830\"\\\n",
    "\n",
    "# np.random.seed(4)\n",
    "\n",
    "# Load the ground truth mesh\n",
    "complete_pcd = o3d.io.read_triangle_mesh(f\"./redwood_dataset/GT/{object_id}.ply\")\n",
    "complete_pcd = complete_pcd.sample_points_uniformly(number_of_points=16384)\n",
    "complete_pcd.points = o3d.utility.Vector3dVector(-np.asarray(complete_pcd.points))\n",
    "translate = -complete_pcd.get_center()\n",
    "complete_pcd = complete_pcd.translate(translate)\n",
    "scale = 0.5 / np.max(np.linalg.norm(np.asarray(complete_pcd.points), axis=1))\n",
    "complete_pcd = complete_pcd.scale(scale, center=complete_pcd.get_center())\n",
    "\n",
    "# Load the partial point cloud\n",
    "partial_pcd = o3d.io.read_point_cloud(f\"./redwood_dataset/point_clouds/{object_id}.ply\")\n",
    "partial_pcd.points = o3d.utility.Vector3dVector(-np.asarray(partial_pcd.points))\n",
    "partial_pcd = partial_pcd.translate(translate)\n",
    "partial_pcd = partial_pcd.scale(scale, center=complete_pcd.get_center())\n",
    "partial_pcd = partial_pcd.farthest_point_down_sample(num_samples=16384)\n",
    "\n",
    "# Load the generated mesh\n",
    "mesh = o3d.io.read_triangle_mesh(os.path.join(output_dir, f\"{object_id}_mesh.ply\"))\n",
    "# Normalize the mesh\n",
    "mesh = mesh.translate(-mesh.get_center())\n",
    "mesh = mesh.scale(0.5 / np.max(np.linalg.norm(np.asarray(mesh.vertices), axis=1)), center=mesh.get_center())\n",
    "mesh_pcd = mesh.sample_points_uniformly(number_of_points=16384)\n",
    "mesh_pcd.points = o3d.utility.Vector3dVector(np.asarray(mesh_pcd.points) * np.array([-1, 1, 1]))\n",
    "\n",
    "# Visualize the partial point cloud and the mesh\n",
    "mesh_pcd.paint_uniform_color([0,0,1])\n",
    "partial_pcd.paint_uniform_color([1, 0, 0])\n",
    "complete_pcd.paint_uniform_color([0, 1, 0])\n",
    "\n",
    "# Draw the partial point cloud and the mesh\n",
    "draw([partial_pcd, mesh_pcd, complete_pcd])"
   ]
  },
  {
   "cell_type": "code",
   "execution_count": 3,
   "id": "31d03131",
   "metadata": {},
   "outputs": [
    {
     "name": "stdout",
     "output_type": "stream",
     "text": [
      "Target point cloud shape: torch.Size([2048, 3])\n",
      "Source point cloud shape: torch.Size([2048, 3])\n",
      "Stage 1: Joint optimization of rotation, translation, and scale\n",
      "Iteration    0: Loss = 0.002700\n",
      "Iteration  100: Loss = 0.000844\n",
      "Iteration  200: Loss = 0.000888\n",
      "Iteration  300: Loss = 0.000853\n",
      "Iteration  400: Loss = 0.000845\n",
      "Iteration  500: Loss = 0.000858\n",
      "Iteration  600: Loss = 0.000846\n",
      "Iteration  700: Loss = 0.000856\n",
      "Iteration  800: Loss = 0.000676\n",
      "Iteration  900: Loss = 0.000674\n",
      "Stage 2: Only optimize translation and scale\n",
      "Iteration    0: Loss = 0.000674\n",
      "Iteration  100: Loss = 0.000674\n",
      "Iteration  200: Loss = 0.000674\n",
      "Optimization complete.\n",
      "Learned rotation angles (radians): [-2.2643516   1.2678295   0.31350458]\n",
      "Learned translation: [ 0.09549507 -0.01365601 -0.10897619]\n",
      "Learned scale: [1.1386921]\n",
      "Chamfer Distance: 0.09916690991421562\n",
      "[Open3D INFO] Window window_1 created.\n"
     ]
    },
    {
     "data": {
      "application/vnd.jupyter.widget-view+json": {
       "model_id": "019f43f53d8e49a2962e201ebc929a55",
       "version_major": 2,
       "version_minor": 0
      },
      "text/plain": [
       "WebVisualizer(window_uid='window_1')"
      ]
     },
     "metadata": {},
     "output_type": "display_data"
    },
    {
     "name": "stdout",
     "output_type": "stream",
     "text": [
      "[Open3D INFO] Window window_2 created.\n"
     ]
    },
    {
     "data": {
      "application/vnd.jupyter.widget-view+json": {
       "model_id": "69721121c4f4438e8d5e8e88cfb3a424",
       "version_major": 2,
       "version_minor": 0
      },
      "text/plain": [
       "WebVisualizer(window_uid='window_2')"
      ]
     },
     "metadata": {},
     "output_type": "display_data"
    }
   ],
   "source": [
    "from utils.gd_register_utils import gd_registration\n",
    "mesh_pcd = gd_registration(mesh_pcd, partial_pcd, fps_sample=2048, device='cuda')\n",
    "\n",
    "# mesh_pcd.transform(transformation)\n",
    "\n",
    "# Compute the chamfer distance\n",
    "cd_o3d = (np.mean(complete_pcd.compute_point_cloud_distance(mesh_pcd)) + \\\n",
    "    np.mean(mesh_pcd.compute_point_cloud_distance(complete_pcd))) / 2\n",
    "print(f\"Chamfer Distance: {cd_o3d}\")\n",
    "\n",
    "draw([partial_pcd, mesh_pcd, complete_pcd])\n",
    "draw([partial_pcd, mesh_pcd])"
   ]
  },
  {
   "cell_type": "code",
   "execution_count": 8,
   "id": "32a317a5",
   "metadata": {},
   "outputs": [
    {
     "name": "stdout",
     "output_type": "stream",
     "text": [
      "Target point cloud shape: torch.Size([2048, 3])\n",
      "Source point cloud shape: torch.Size([2048, 3])\n",
      "Iteration    0: Loss = 0.002779\n",
      "Iteration  100: Loss = 0.000745\n",
      "Iteration  200: Loss = 0.000745\n",
      "Iteration  300: Loss = 0.000746\n",
      "Iteration  400: Loss = 0.000753\n",
      "Iteration  500: Loss = 0.000759\n",
      "Iteration  600: Loss = 0.000749\n",
      "Iteration  700: Loss = 0.000753\n",
      "Iteration  800: Loss = 0.000750\n",
      "Iteration  900: Loss = 0.000775\n",
      "Optimization complete.\n",
      "Learned rotation angles (radians): [-0.93191963  0.0627753  -0.6163153 ]\n",
      "Learned translation: [ 0.04295043 -0.03262854 -0.05272727]\n",
      "Learned scale: [0.9583571]\n",
      "Chamfer Distance: 0.04756831151413324\n",
      "[Open3D INFO] Window window_10 created.\n"
     ]
    },
    {
     "data": {
      "application/vnd.jupyter.widget-view+json": {
       "model_id": "4acb2ecadb61477597cf92193f3c098a",
       "version_major": 2,
       "version_minor": 0
      },
      "text/plain": [
       "WebVisualizer(window_uid='window_10')"
      ]
     },
     "metadata": {},
     "output_type": "display_data"
    },
    {
     "name": "stdout",
     "output_type": "stream",
     "text": [
      "[Open3D INFO] Window window_11 created.\n"
     ]
    },
    {
     "data": {
      "application/vnd.jupyter.widget-view+json": {
       "model_id": "656e08927df94fa6bfab19366cd368a5",
       "version_major": 2,
       "version_minor": 0
      },
      "text/plain": [
       "WebVisualizer(window_uid='window_11')"
      ]
     },
     "metadata": {},
     "output_type": "display_data"
    }
   ],
   "source": [
    "import numpy as np\n",
    "import torch\n",
    "import torch.optim as optim\n",
    "import fpsample\n",
    "from utils.chamfer_python import distChamfer\n",
    "\n",
    "def euler_angles_to_rotation_matrix(theta):\n",
    "    \"\"\"\n",
    "    Convert a tensor of 3 Euler angles (in radians) to a 3x3 rotation matrix.\n",
    "    theta = [alpha, beta, gamma] corresponds to rotations about x, y, and z axes.\n",
    "    \"\"\"\n",
    "    one = torch.tensor(1., device=theta.device, dtype=theta.dtype)\n",
    "    zero = torch.tensor(0., device=theta.device, dtype=theta.dtype)\n",
    "    \n",
    "    cos_a = torch.cos(theta[0])\n",
    "    sin_a = torch.sin(theta[0])\n",
    "    cos_b = torch.cos(theta[1])\n",
    "    sin_b = torch.sin(theta[1])\n",
    "    cos_c = torch.cos(theta[2])\n",
    "    sin_c = torch.sin(theta[2])\n",
    "    \n",
    "    # Rotation about x-axis\n",
    "    R_x = torch.stack([\n",
    "        torch.stack([one,      zero,   zero]),\n",
    "        torch.stack([zero, cos_a, -sin_a]),\n",
    "        torch.stack([zero, sin_a,  cos_a])\n",
    "    ])\n",
    "    \n",
    "    # Rotation about y-axis\n",
    "    R_y = torch.stack([\n",
    "        torch.stack([cos_b, zero, sin_b]),\n",
    "        torch.stack([zero,  one,  zero]),\n",
    "        torch.stack([-sin_b, zero, cos_b])\n",
    "    ])\n",
    "    \n",
    "    # Rotation about z-axis\n",
    "    R_z = torch.stack([\n",
    "        torch.stack([cos_c, -sin_c, zero]),\n",
    "        torch.stack([sin_c,  cos_c, zero]),\n",
    "        torch.stack([zero,   zero,  one])\n",
    "    ])\n",
    "    \n",
    "    # Combined rotation matrix: using Z-Y-X order\n",
    "    R = torch.mm(R_z, torch.mm(R_y, R_x))\n",
    "    return R\n",
    "\n",
    "def transform_points(points, angles, translation, scale):\n",
    "    \"\"\"\n",
    "    Apply a rigid transformation with scale to the points.\n",
    "    points: Tensor of shape (N, 3)\n",
    "    angles: Tensor of shape (3,)\n",
    "    translation: Tensor of shape (3,)\n",
    "    scale: Tensor of shape (1,) representing uniform scale.\n",
    "    Returns the transformed point cloud.\n",
    "    \"\"\"\n",
    "    R = euler_angles_to_rotation_matrix(angles)\n",
    "    zero = torch.tensor(0., device=points.device, dtype=points.dtype)\n",
    "    one = torch.tensor(1., device=points.device, dtype=points.dtype)\n",
    "    # Using matrix multiplication: note that we use the transpose of R so that each point is rotated properly.\n",
    "    transformation = torch.stack([torch.stack([R[0, 0], R[0, 1], R[0, 2], translation[0]]),\n",
    "                                  torch.stack([R[1, 0], R[1, 1], R[1, 2], translation[1]]),\n",
    "                                  torch.stack([R[2, 0], R[2, 1], R[2, 2], translation[2]]),\n",
    "                                  torch.stack([zero, zero, zero, one])])\n",
    "    points_homogeneous = torch.cat([points, torch.ones(points.shape[0], 1, device=points.device)], dim=1)  # shape: (N, 4)\n",
    "    transformed = torch.matmul(points_homogeneous, transformation.T)[:, :3]  # shape: (N, 3)\n",
    "    transformed = transformed * scale  # Apply uniform scaling\n",
    "    return transformed\n",
    "\n",
    "def register_points_gd(source_pc, target_pc, num_iterations=500, learning_rate=0.5):\n",
    "    \"\"\"\n",
    "    Register the source point cloud to the target point cloud using gradient descent.\n",
    "    \n",
    "    Parameters:\n",
    "        source_pc (torch.Tensor): Source point cloud (partial) of shape (N, 3).\n",
    "        target_pc (torch.Tensor): Target point cloud (complete) of shape (M, 3).\n",
    "        num_iterations (int): Number of optimization iterations.\n",
    "        learning_rate (float): Learning rate for the optimizer.\n",
    "    \n",
    "    Returns:\n",
    "        angles, translation, scale: Learned parameters.\n",
    "    \"\"\"\n",
    "    # Initialize the learnable parameters\n",
    "    angles = torch.nn.Parameter(torch.zeros(3, device=device))\n",
    "    translation = torch.nn.Parameter(torch.zeros(3, device=device))\n",
    "    scale = torch.nn.Parameter(torch.ones(1, device=device))\n",
    "    \n",
    "    # Best results\n",
    "    best_loss = float('inf')\n",
    "    best_angles = angles.clone()\n",
    "    best_translation = translation.clone()\n",
    "    best_scale = scale.clone()\n",
    "\n",
    "    # Set up the optimizer\n",
    "    # optimizer = optim.SGD([angles, translation, scale], lr=learning_rate, momentum=0.0)\n",
    "    optimizer = optim.Adam([angles, translation, scale], lr=learning_rate)\n",
    "\n",
    "    for iteration in range(num_iterations):\n",
    "        optimizer.zero_grad()\n",
    "        \n",
    "        # Apply the transformation to the source point cloud\n",
    "        transformed_source = transform_points(source_pc, angles, translation, scale)\n",
    "        \n",
    "        # Compute the Chamfer loss between the transformed source and target point clouds\n",
    "        cd_1, cd_2, _, _ = distChamfer(transformed_source.unsqueeze(0), target_pc.unsqueeze(0))\n",
    "        loss = cd_2.mean()  # Mean Chamfer distance\n",
    "        \n",
    "        # Backpropagation\n",
    "        loss.backward()\n",
    "        # Multiply the gradient of the scales by 0.1 to make it less sensitive\n",
    "        scale.grad *= 0.1\n",
    "             \n",
    "        optimizer.step()\n",
    "        \n",
    "        if iteration % 100 == 0:\n",
    "            print(f\"Iteration {iteration:4d}: Loss = {loss.item():.6f}\")\n",
    "        \n",
    "        if loss.item() < best_loss:\n",
    "            best_loss = loss.item()\n",
    "            best_angles = angles.clone()\n",
    "            best_translation = translation.clone()\n",
    "            best_scale = scale.clone()\n",
    "\n",
    "    return best_angles, best_translation, best_scale\n",
    "\n",
    "# Assume you have two point clouds:\n",
    "# `source_pc` is the partial point cloud that you want to register to `target_pc` (the complete point cloud).\n",
    "# They should be torch tensors of shape (N, 3) and (M, 3) respectively.\n",
    "#\n",
    "# For demonstration, here we create synthetic point clouds.\n",
    "# In practice, replace these with your real data.\n",
    "torch.manual_seed(42)\n",
    "device = torch.device('cuda' if torch.cuda.is_available() else 'cpu')\n",
    "\n",
    "target_pc_idx = fpsample.fps_sampling(np.asarray(partial_pcd.points), 2048)\n",
    "source_pc_idx = fpsample.fps_sampling(np.asarray(mesh_pcd.points), 2048)\n",
    "target_pc = torch.tensor(np.asarray(partial_pcd.points)[target_pc_idx], dtype=torch.float32, device=device)\n",
    "source_pc = torch.tensor(np.asarray(mesh_pcd.points)[source_pc_idx], dtype=torch.float32, device=device)\n",
    "print(f\"Target point cloud shape: {target_pc.shape}\")\n",
    "print(f\"Source point cloud shape: {source_pc.shape}\")\n",
    "\n",
    "# Register the point clouds\n",
    "angles, translation, scale = register_points_gd(source_pc, target_pc, num_iterations=1000, learning_rate=0.1)\n",
    "\n",
    "print(\"Optimization complete.\")\n",
    "print(\"Learned rotation angles (radians):\", angles.data.cpu().numpy())\n",
    "print(\"Learned translation:\", translation.data.cpu().numpy())\n",
    "print(\"Learned scale:\", scale.data.cpu().numpy())\n",
    "\n",
    "# Plot the results\n",
    "R = euler_angles_to_rotation_matrix(angles)\n",
    "zero = torch.tensor(0., device=angles.device, dtype=angles.dtype)\n",
    "one = torch.tensor(1., device=angles.device, dtype=angles.dtype)\n",
    "# Using matrix multiplication: note that we use the transpose of R so that each point is rotated properly.\n",
    "transformation = torch.stack([torch.stack([R[0, 0], R[0, 1], R[0, 2], translation[0]]),\n",
    "                                torch.stack([R[1, 0], R[1, 1], R[1, 2], translation[1]]),\n",
    "                                torch.stack([R[2, 0], R[2, 1], R[2, 2], translation[2]]),\n",
    "                                torch.stack([zero, zero, zero, one])]).detach().cpu().numpy()\n",
    "scale = scale.detach().cpu().numpy()\n",
    "\n",
    "# Visualize the partial point cloud and the mesh\n",
    "mesh_pcd_registered = copy.deepcopy(mesh_pcd)\n",
    "mesh_pcd_registered = mesh_pcd_registered.transform(transformation)\n",
    "mesh_pcd_registered.points = o3d.utility.Vector3dVector(np.asarray(mesh_pcd_registered.points) * scale)\n",
    "\n",
    "# Compute the chamfer distance\n",
    "cd_o3d = (np.mean(complete_pcd.compute_point_cloud_distance(mesh_pcd_registered)) + \\\n",
    "    np.mean(mesh_pcd_registered.compute_point_cloud_distance(complete_pcd))) / 2\n",
    "print(f\"Chamfer Distance: {cd_o3d}\")\n",
    "\n",
    "draw([partial_pcd, mesh_pcd_registered, complete_pcd])\n",
    "draw([partial_pcd, mesh_pcd_registered])"
   ]
  },
  {
   "cell_type": "code",
   "execution_count": 18,
   "id": "01fc55f0",
   "metadata": {},
   "outputs": [
    {
     "name": "stdout",
     "output_type": "stream",
     "text": [
      "\u001b[1;33m[Open3D WARNING] Too few correspondences (479) after mutual filter, fall back to original correspondences.\u001b[0;m\n",
      "\u001b[1;33m[Open3D WARNING] Too few correspondences (479) after mutual filter, fall back to original correspondences.\u001b[0;m\n",
      "\u001b[1;33m[Open3D WARNING] Too few correspondences (479) after mutual filter, fall back to original correspondences.\u001b[0;m\n",
      "\u001b[1;33m[Open3D WARNING] Too few correspondences (479) after mutual filter, fall back to original correspondences.\u001b[0;m\n",
      "\u001b[1;33m[Open3D WARNING] Too few correspondences (479) after mutual filter, fall back to original correspondences.\u001b[0;m\n",
      "\u001b[1;33m[Open3D WARNING] Too few correspondences (478) after mutual filter, fall back to original correspondences.\u001b[0;m\n",
      "\u001b[1;33m[Open3D WARNING] Too few correspondences (480) after mutual filter, fall back to original correspondences.\u001b[0;m\n",
      "\u001b[1;33m[Open3D WARNING] Too few correspondences (481) after mutual filter, fall back to original correspondences.\u001b[0;m\n",
      "\u001b[1;33m[Open3D WARNING] Too few correspondences (478) after mutual filter, fall back to original correspondences.\u001b[0;m\n",
      "\u001b[1;33m[Open3D WARNING] Too few correspondences (475) after mutual filter, fall back to original correspondences.\u001b[0;m\n",
      "\u001b[1;33m[Open3D WARNING] Too few correspondences (481) after mutual filter, fall back to original correspondences.\u001b[0;m\n",
      "\u001b[1;33m[Open3D WARNING] Too few correspondences (483) after mutual filter, fall back to original correspondences.\u001b[0;m\n",
      "\u001b[1;33m[Open3D WARNING] Too few correspondences (487) after mutual filter, fall back to original correspondences.\u001b[0;m\n",
      "\u001b[1;33m[Open3D WARNING] Too few correspondences (485) after mutual filter, fall back to original correspondences.\u001b[0;m\n",
      "\u001b[1;33m[Open3D WARNING] Too few correspondences (472) after mutual filter, fall back to original correspondences.\u001b[0;m\n",
      "\u001b[1;33m[Open3D WARNING] Too few correspondences (476) after mutual filter, fall back to original correspondences.\u001b[0;m\n",
      "\u001b[1;33m[Open3D WARNING] Too few correspondences (492) after mutual filter, fall back to original correspondences.\u001b[0;m\n",
      "\u001b[1;33m[Open3D WARNING] Too few correspondences (502) after mutual filter, fall back to original correspondences.\u001b[0;m\n",
      "Chamfer Distance: 0.03797277196829476\n"
     ]
    }
   ],
   "source": [
    "# Register the mesh to the original point cloud\n",
    "scales = np.arange(0.8, 1.25, 0.025)\n",
    "# scales = np.meshgrid(scales, scales, scales)\n",
    "# scales = np.array(scales).reshape(3, -1).T\n",
    "# print(f\"Number of scales: {scales[..., None].shape}\")\n",
    "transformation = multiscale_registration(mesh_pcd, partial_pcd, scales, voxel_size=0.0025)\n",
    "\n",
    "mesh_pcd.transform(transformation)\n",
    "\n",
    "# Compute the chamfer distance\n",
    "cd_o3d = (np.mean(complete_pcd.compute_point_cloud_distance(mesh_pcd)) + \\\n",
    "    np.mean(mesh_pcd.compute_point_cloud_distance(complete_pcd))) / 2\n",
    "print(f\"Chamfer Distance: {cd_o3d}\")\n",
    "\n",
    "# from utils.chamfer_python import distChamfer\n",
    "# cd_left, cd_right, index_left, index_right = distChamfer(torch.tensor(np.asarray(complete_pcd.points)).unsqueeze(0), \n",
    "#                  torch.tensor(np.asarray(mesh_pcd.points)).unsqueeze(0))\n",
    "# print(cd_left.shape, cd_right.shape)\n",
    "# cd = (cd_left.sqrt().mean(dim=1) + cd_right.sqrt().mean(dim=1))\n",
    "# print(f\"Chamfer Distance (PyTorch): {cd.item()}\")"
   ]
  },
  {
   "cell_type": "code",
   "execution_count": 19,
   "id": "7867a653",
   "metadata": {},
   "outputs": [
    {
     "name": "stdout",
     "output_type": "stream",
     "text": [
      "[Open3D INFO] Window window_6 created.\n"
     ]
    },
    {
     "data": {
      "application/vnd.jupyter.widget-view+json": {
       "model_id": "717b079f9e6442e49a02d2f8c170a8a3",
       "version_major": 2,
       "version_minor": 0
      },
      "text/plain": [
       "WebVisualizer(window_uid='window_6')"
      ]
     },
     "metadata": {},
     "output_type": "display_data"
    }
   ],
   "source": [
    "\n",
    "draw([mesh_pcd, partial_pcd, complete_pcd])"
   ]
  },
  {
   "cell_type": "code",
   "execution_count": null,
   "id": "4f3421fe",
   "metadata": {},
   "outputs": [],
   "source": []
  },
  {
   "cell_type": "code",
   "execution_count": null,
   "id": "b54a02c7",
   "metadata": {},
   "outputs": [],
   "source": []
  }
 ],
 "metadata": {
  "kernelspec": {
   "display_name": "LGM",
   "language": "python",
   "name": "python3"
  },
  "language_info": {
   "codemirror_mode": {
    "name": "ipython",
    "version": 3
   },
   "file_extension": ".py",
   "mimetype": "text/x-python",
   "name": "python",
   "nbconvert_exporter": "python",
   "pygments_lexer": "ipython3",
   "version": "3.11.5"
  }
 },
 "nbformat": 4,
 "nbformat_minor": 5
}
