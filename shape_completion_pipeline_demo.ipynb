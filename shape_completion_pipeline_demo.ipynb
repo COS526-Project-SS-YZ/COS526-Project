{
 "cells": [
  {
   "cell_type": "code",
   "execution_count": 1,
   "id": "51679dfb",
   "metadata": {},
   "outputs": [
    {
     "name": "stdout",
     "output_type": "stream",
     "text": [
      "Jupyter environment detected. Enabling Open3D WebVisualizer.\n",
      "[Open3D INFO] WebRTC GUI backend enabled.\n",
      "[Open3D INFO] WebRTCWindowSystem: HTTP handshake server disabled.\n"
     ]
    },
    {
     "name": "stderr",
     "output_type": "stream",
     "text": [
      "2025-05-05 11:09:24,630 - hy3dgen.shapgen - INFO - Try to load model from local path: /home/warrenz/.cache/hy3dgen/tencent/Hunyuan3D-2/hunyuan3d-dit-v2-0\n",
      "2025-05-05 11:09:24,631 - hy3dgen.shapgen - INFO - Model path not exists, try to download from huggingface\n"
     ]
    },
    {
     "data": {
      "application/vnd.jupyter.widget-view+json": {
       "model_id": "9eb55257f79f4f079a5e038760042330",
       "version_major": 2,
       "version_minor": 0
      },
      "text/plain": [
       "Fetching 6 files:   0%|          | 0/6 [00:00<?, ?it/s]"
      ]
     },
     "metadata": {},
     "output_type": "display_data"
    },
    {
     "name": "stderr",
     "output_type": "stream",
     "text": [
      "2025-05-05 11:09:24,849 - hy3dgen.shapgen - INFO - Loading model from /home/warrenz/.cache/huggingface/hub/models--tencent--Hunyuan3D-2/snapshots/34e28261f71c32975727be8db0eace439a280f82/hunyuan3d-dit-v2-0/model.fp16.safetensors\n"
     ]
    },
    {
     "data": {
      "application/vnd.jupyter.widget-view+json": {
       "model_id": "60e0830734ad4cc4b58f9b7f5ded8037",
       "version_major": 2,
       "version_minor": 0
      },
      "text/plain": [
       "Loading pipeline components...:   0%|          | 0/6 [00:00<?, ?it/s]"
      ]
     },
     "metadata": {},
     "output_type": "display_data"
    },
    {
     "name": "stderr",
     "output_type": "stream",
     "text": [
      "You have disabled the safety checker for <class 'diffusers.pipelines.controlnet.pipeline_controlnet.StableDiffusionControlNetPipeline'> by passing `safety_checker=None`. Ensure that you abide to the conditions of the Stable Diffusion license and do not expose unfiltered results in services or applications open to the public. Both the diffusers team and Hugging Face strongly recommend to keep the safety filter enabled in all public facing circumstances, disabling it only for use-cases that involve analyzing network behavior or auditing its results. For more information, please have a look at https://github.com/huggingface/diffusers/pull/254 .\n",
      "It seems like you have activated model offloading by calling `enable_model_cpu_offload`, but are now manually moving the pipeline to GPU. It is strongly recommended against doing so as memory gains from offloading are likely to be lost. Offloading automatically takes care of moving the individual components vae, text_encoder, tokenizer, unet, controlnet, scheduler, safety_checker, feature_extractor, image_encoder to GPU when needed. To make sure offloading works as expected, you should consider moving the pipeline back to CPU: `pipeline.to('cpu')` or removing the move altogether if you use offloading.\n"
     ]
    }
   ],
   "source": [
    "import os    \n",
    "import cv2  \n",
    "import argparse\n",
    "import time\n",
    "import numpy as np\n",
    "from scipy import ndimage\n",
    "from skimage.transform import resize\n",
    "\n",
    "from utils.depth_utils import *\n",
    "from utils.register_utils import *\n",
    "\n",
    "from transformers import pipeline\n",
    "from diffusers import StableDiffusionControlNetPipeline, ControlNetModel, UniPCMultistepScheduler\n",
    "from PIL import Image\n",
    "import matplotlib.pyplot as plt\n",
    "import numpy as np\n",
    "import torch\n",
    "from diffusers.utils import load_image\n",
    "\n",
    "from rembg import remove\n",
    "from diffusers.utils import make_image_grid\n",
    "\n",
    "from hy3dgen.texgen import Hunyuan3DPaintPipeline\n",
    "from hy3dgen.shapegen import Hunyuan3DDiTFlowMatchingPipeline\n",
    "\n",
    "hunyuan3D_mesh_pipe = Hunyuan3DDiTFlowMatchingPipeline.from_pretrained('tencent/Hunyuan3D-2')\n",
    "# hunyuan3D_paint_pipe = Hunyuan3DPaintPipeline.from_pretrained('tencent/Hunyuan3D-2')\n",
    "\n",
    "controlnet = ControlNetModel.from_pretrained(\n",
    "    \"lllyasviel/sd-controlnet-depth\", torch_dtype=torch.float16\n",
    ")\n",
    "\n",
    "d2i_pipe = StableDiffusionControlNetPipeline.from_pretrained(\n",
    "    \"runwayml/stable-diffusion-v1-5\", controlnet=controlnet, safety_checker=None, torch_dtype=torch.float16\n",
    ")\n",
    "\n",
    "d2i_pipe.scheduler = UniPCMultistepScheduler.from_config(d2i_pipe.scheduler.config)\n",
    "\n",
    "# Remove if you do not have xformers installed\n",
    "# see https://huggingface.co/docs/diffusers/v0.13.0/en/optimization/xformers#installing-xformers\n",
    "# for installation instructions\n",
    "d2i_pipe.enable_xformers_memory_efficient_attention()\n",
    "\n",
    "d2i_pipe.enable_model_cpu_offload()\n",
    "d2i_pipe.to(\"cuda\")\n",
    "\n",
    "\n",
    "data_map_txt={\"01184\":\"An outdoor trash can with wheels\", # Wheelie-Bin\n",
    "              \"06127\":\"A plant in a large vase\", # vase\n",
    "              \"06830\":\"Children's tricycle with adult's handle\" , # tricycle\n",
    "              \"07306\":\"An office trash can\", # trash can\n",
    "              \"05452\":\"An a outside chair\", # arm chair\n",
    "              \"06145\":\"A one leg square table\", # table\n",
    "              \"05117\":\"A chair\", # chair\n",
    "              \"06188\":\"A motorcycle\", # vespa\n",
    "              \"07136\":\"A couch\", # sofa\n",
    "              \"09639\":\"An executive chair\"} # Swivel chair"
   ]
  },
  {
   "cell_type": "code",
   "execution_count": 2,
   "id": "d2394586",
   "metadata": {},
   "outputs": [
    {
     "name": "stdout",
     "output_type": "stream",
     "text": [
      "Namespace(obj_id='05117', verbose=True, output_dir='./output', gen_rgb=False, depth_inpainting=False, inference_steps=50, seed=42)\n"
     ]
    }
   ],
   "source": [
    "# params\n",
    "parser = argparse.ArgumentParser()\n",
    "parser.add_argument(\n",
    "    \"--obj_id\",\n",
    "    type=str,\n",
    "    default=\"09639\",\n",
    "    choices=data_map_txt.keys(),\n",
    "    help=\"Object ID to process\",\n",
    ")\n",
    "parser.add_argument(\n",
    "    \"--verbose\",\n",
    "    action=\"store_true\",\n",
    "    help=\"Enable verbose output\",\n",
    ")\n",
    "parser.add_argument(\n",
    "    \"--output_dir\",\n",
    "    type=str,\n",
    "    default=\"./output\",\n",
    "    help=\"Directory to save output images\",\n",
    ")\n",
    "parser.add_argument(\n",
    "    \"--gen_rgb\",\n",
    "    action=\"store_true\",\n",
    "    help=\"Generate RGB image using ControlNet\",\n",
    ")\n",
    "parser.add_argument(\n",
    "    \"--depth_inpainting\",\n",
    "    action=\"store_true\",\n",
    "    help=\"Enable depth inpainting\",\n",
    ")\n",
    "parser.add_argument(\n",
    "    \"--inference_steps\",\n",
    "    type=int,\n",
    "    default=100,\n",
    "    help=\"Number of inference steps for image generation\",\n",
    ")\n",
    "parser.add_argument(\n",
    "    \"--seed\",\n",
    "    type=int,\n",
    "    default=42,\n",
    "    help=\"Random seed for reproducibility\",\n",
    ")\n",
    "args = parser.parse_args(['--obj_id', '05117', \n",
    "                          '--verbose', \n",
    "                        #   '--gen_rgb', \n",
    "                        #   '--depth_inpainting', \n",
    "                          '--inference_steps', '50'])\n",
    "print(args)"
   ]
  },
  {
   "cell_type": "code",
   "execution_count": 3,
   "id": "6c319e2e",
   "metadata": {},
   "outputs": [],
   "source": [
    "# Set the random seed for reproducibility\n",
    "torch.manual_seed(args.seed)\n",
    "np.random.seed(args.seed)\n",
    "\n",
    "object_id = args.obj_id\n",
    "verbose = args.verbose\n",
    "depth_inpainting = args.depth_inpainting\n",
    "output_dir = args.output_dir\n",
    "os.makedirs(output_dir, exist_ok=True)"
   ]
  },
  {
   "cell_type": "code",
   "execution_count": 4,
   "id": "ff51190f",
   "metadata": {},
   "outputs": [],
   "source": [
    "# Start the timer\n",
    "start_time = time.time()"
   ]
  },
  {
   "cell_type": "code",
   "execution_count": 5,
   "id": "5f09b5ad",
   "metadata": {},
   "outputs": [],
   "source": [
    "pcl_path = f'./redwood_dataset/point_clouds/{object_id}.ply'\n",
    "partial_pcl = o3d.io.read_point_cloud(pcl_path)\n",
    "partial_pcl_translate = -partial_pcl.get_center()\n",
    "partial_pcl = partial_pcl.translate(partial_pcl_translate)\n",
    "partial_pcl_scale = 1.0 / np.max(np.linalg.norm(np.asarray(partial_pcl.points), axis=1))\n",
    "partial_pcl_scale_center = np.asarray((0, 0, 0))\n",
    "partial_pcl = partial_pcl.scale(partial_pcl_scale, center=partial_pcl_scale_center)\n",
    "partial_pcl = np.asarray(partial_pcl.points)"
   ]
  },
  {
   "cell_type": "code",
   "execution_count": 6,
   "id": "bf587874",
   "metadata": {},
   "outputs": [
    {
     "name": "stderr",
     "output_type": "stream",
     "text": [
      "Computing visibility with convex hull: 100%|██████████| 500/500 [00:04<00:00, 113.05it/s]\n"
     ]
    },
    {
     "name": "stdout",
     "output_type": "stream",
     "text": [
      "[INFO] Best camera position: [-0.6348196  -0.53348297 -1.82      ]\n",
      "[INFO] Best visible count: 2004\n",
      "[INFO] Current radius: 1.6817928305074292\n"
     ]
    },
    {
     "name": "stderr",
     "output_type": "stream",
     "text": [
      "Computing visibility with depth map: 100%|██████████| 100/100 [00:01<00:00, 60.23it/s]\n"
     ]
    },
    {
     "name": "stdout",
     "output_type": "stream",
     "text": [
      "[INFO] Best camera position: [-0.05962432  0.01003741 -1.99908584]\n",
      "[INFO] Best visible count: 42691\n",
      "Iteration: 1 Best visible count: 42691\n",
      "[INFO] Current radius: 1.414213562373095\n"
     ]
    },
    {
     "name": "stderr",
     "output_type": "stream",
     "text": [
      "Computing visibility with depth map: 100%|██████████| 100/100 [00:01<00:00, 58.21it/s]\n"
     ]
    },
    {
     "name": "stdout",
     "output_type": "stream",
     "text": [
      "[INFO] Best camera position: [ 0.03349565  0.04623064 -1.99918503]\n",
      "[INFO] Best visible count: 42850\n",
      "Iteration: 2 Best visible count: 42850\n",
      "[INFO] Current radius: 1.189207115002721\n"
     ]
    },
    {
     "name": "stderr",
     "output_type": "stream",
     "text": [
      "Computing visibility with depth map: 100%|██████████| 100/100 [00:01<00:00, 57.72it/s]\n"
     ]
    },
    {
     "name": "stdout",
     "output_type": "stream",
     "text": [
      "Iteration: 3 Best visible count: 42850\n",
      "[INFO] Current radius: 1.0\n"
     ]
    },
    {
     "name": "stderr",
     "output_type": "stream",
     "text": [
      "Computing visibility with depth map: 100%|██████████| 100/100 [00:01<00:00, 57.59it/s]\n"
     ]
    },
    {
     "name": "stdout",
     "output_type": "stream",
     "text": [
      "Iteration: 4 Best visible count: 42850\n",
      "[INFO] Current radius: 0.8408964152537146\n"
     ]
    },
    {
     "name": "stderr",
     "output_type": "stream",
     "text": [
      "Computing visibility with depth map: 100%|██████████| 100/100 [00:01<00:00, 57.41it/s]\n"
     ]
    },
    {
     "name": "stdout",
     "output_type": "stream",
     "text": [
      "[INFO] Best camera position: [-0.01205135 -0.04602424 -1.99943405]\n",
      "[INFO] Best visible count: 42872\n",
      "Iteration: 5 Best visible count: 42872\n",
      "[INFO] Current radius: 0.7071067811865475\n"
     ]
    },
    {
     "name": "stderr",
     "output_type": "stream",
     "text": [
      "Computing visibility with depth map: 100%|██████████| 100/100 [00:01<00:00, 58.03it/s]\n"
     ]
    },
    {
     "name": "stdout",
     "output_type": "stream",
     "text": [
      "[INFO] Best camera position: [ 0.03453864 -0.02790803 -1.999507  ]\n",
      "[INFO] Best visible count: 42881\n",
      "Iteration: 6 Best visible count: 42881\n",
      "[INFO] Current radius: 0.5946035575013605\n"
     ]
    },
    {
     "name": "stderr",
     "output_type": "stream",
     "text": [
      "Computing visibility with depth map: 100%|██████████| 100/100 [00:01<00:00, 57.93it/s]"
     ]
    },
    {
     "name": "stdout",
     "output_type": "stream",
     "text": [
      "Iteration: 7 Best visible count: 42881\n",
      "[INFO] Best camera position: [ 0.03453864 -0.02790803 -1.999507  ]\n",
      "[INFO] Best visible count: 42881\n"
     ]
    },
    {
     "name": "stderr",
     "output_type": "stream",
     "text": [
      "\n"
     ]
    }
   ],
   "source": [
    "_, _, best_depth_map, best_depth_map_low, _ = find_best_camera_iter_w_low(partial_pcl, \n",
    "                                                                        n_cam_hull=500, \n",
    "                                                                        n_cam_depth_iter=100, \n",
    "                                                                        radius=2.0,\n",
    "                                                                        width=512,\n",
    "                                                                        height=512,\n",
    "                                                                        fov_deg=60,\n",
    "                                                                        low_res_ratio=1/8)\n",
    "\n",
    "depth_map_c = cv2.medianBlur(best_depth_map.astype(np.float32), 5)"
   ]
  },
  {
   "cell_type": "code",
   "execution_count": 7,
   "id": "6091857c",
   "metadata": {},
   "outputs": [],
   "source": [
    "if depth_inpainting:\n",
    "    # depth_map_c = cv2.medianBlur(depth_map_c.astype(np.float32), 5)\n",
    "    # depth_map_c = cv2.medianBlur(depth_map_c.astype(np.float32), 5)\n",
    "    depth_map_binary = cv2.threshold(depth_map_c, 0, 1, cv2.THRESH_BINARY)[1].astype(np.uint8)\n",
    "    depth_map_binary_low = cv2.threshold(best_depth_map_low, 0, 1, cv2.THRESH_BINARY)[1]\n",
    "    depth_map_binary_low = cv2.GaussianBlur(depth_map_binary_low, (5,5), sigmaX=1.0, sigmaY=1.0)\n",
    "    depth_map_binary_low_up = cv2.resize(depth_map_binary_low, (depth_map_c.shape[1], depth_map_c.shape[0]), interpolation=cv2.INTER_LANCZOS4)\n",
    "    depth_map_binary_low_up = cv2.threshold(depth_map_binary_low_up, 0.5, 1, cv2.THRESH_BINARY)[1].astype(np.uint8)\n",
    "    depth_map_xor = cv2.bitwise_xor(depth_map_binary, depth_map_binary_low_up)\n",
    "    depth_map_xor[depth_map_binary != 0] = 0\n",
    "    from diffusers import StableDiffusionInpaintPipeline\n",
    "    from PIL import Image\n",
    "    pipe = StableDiffusionInpaintPipeline.from_pretrained(\n",
    "        \"stabilityai/stable-diffusion-2-inpainting\",\n",
    "        torch_dtype=torch.float16,\n",
    "    )\n",
    "\n",
    "    pipe.to(\"cuda\")\n",
    "    prompt = data_map_txt[object_id]\n",
    "    negative_prompt = \"bad anatomy, deformed, ugly, disfigured, intricate details, blurry, out of focus, bad art, bad anatomy, disfig\"\n",
    "    #image and mask_image should be PIL images.\n",
    "    # convert the depth map to a PIL image\n",
    "    depth_map_image = cv2.normalize(depth_map_c, None, 0, 255, cv2.NORM_MINMAX).astype(np.uint8)\n",
    "    depth_map_image = cv2.cvtColor(depth_map_image, cv2.COLOR_GRAY2RGB)\n",
    "    depth_map_image = cv2.resize(depth_map_image, (512, 512), interpolation=cv2.INTER_NEAREST)\n",
    "    # convert the binary mask to a PIL image\n",
    "    mask_image = cv2.normalize(depth_map_xor, None, 0, 255, cv2.NORM_MINMAX).astype(np.uint8)\n",
    "    mask_image = cv2.cvtColor(mask_image, cv2.COLOR_GRAY2RGB)\n",
    "    mask_image = cv2.resize(mask_image, (512, 512), interpolation=cv2.INTER_NEAREST)\n",
    "    #The mask structure is white for inpainting and black for keeping as is\n",
    "    depth_map = pipe(prompt=prompt, \n",
    "                        negative_prompt=negative_prompt, \n",
    "                        image=Image.fromarray(depth_map_image), \n",
    "                        mask_image=Image.fromarray(mask_image),\n",
    "                num_inference_steps=100,\n",
    "                guidance_scale=2.0\n",
    "                ).images[0]\n",
    "    depth_map = np.array(depth_map)\n",
    "    make_image_grid([Image.fromarray(depth_map_image), \n",
    "                     Image.fromarray(mask_image), \n",
    "                     Image.fromarray(depth_map)], rows=1, cols=3).save(os.path.join(output_dir, f\"{object_id}_depth_inpaint.png\"))\n",
    "else:\n",
    "    # depth_map_c = cv2.medianBlur(depth_map_c.astype(np.float32), 5)\n",
    "    depth_map = cv2.normalize(depth_map_c, None, 0, 255, cv2.NORM_MINMAX).astype(np.uint8)\n",
    "    # increase a little bit contrast\n",
    "    depth_map = cv2.convertScaleAbs(depth_map, alpha=0.9, beta=0)\n",
    "    depth_map = cv2.cvtColor(depth_map, cv2.COLOR_GRAY2RGB)\n",
    "    depth_map = cv2.resize(depth_map, (512, 512), interpolation=cv2.INTER_NEAREST)\n",
    "    make_image_grid([Image.fromarray(depth_map)], rows=1, cols=1).save(os.path.join(output_dir, f\"{object_id}_depth.png\"))\n",
    "\n",
    "# depth_map = cv2.flip(depth_map, 1)"
   ]
  },
  {
   "cell_type": "code",
   "execution_count": 8,
   "id": "48f8a1c8",
   "metadata": {},
   "outputs": [
    {
     "data": {
      "image/png": "[encoded data removed]",
      "text/plain": [
       "<Figure size 640x480 with 1 Axes>"
      ]
     },
     "metadata": {},
     "output_type": "display_data"
    }
   ],
   "source": [
    "plt.imshow(depth_map)\n",
    "plt.axis('off')\n",
    "plt.show()"
   ]
  },
  {
   "cell_type": "code",
   "execution_count": 9,
   "id": "6fc6afb9",
   "metadata": {},
   "outputs": [],
   "source": [
    "if args.gen_rgb:\n",
    "    print(\"[INFO] Depth map generated, now generating image using ControlNet...\")\n",
    "    auxiliary_prompt = \", clean background, no people, no animals\"\n",
    "    # auxiliary_prompt = \"\"\n",
    "    image = d2i_pipe(data_map_txt[object_id] + auxiliary_prompt,\n",
    "                    Image.fromarray(depth_map), \n",
    "                    num_inference_steps=args.inference_steps,\n",
    "                    # num_inference_steps=75,\n",
    "                    guidance_scale = 6.0,\n",
    "                    # controlnet_conditioning_scale=0.9,\n",
    "                    negative_prompt=\"bad anatomy, deformed, ugly, disfigured, \\\n",
    "                    intricate details, blurry, out of focus, bad art, bad anatomy\",\n",
    "                    # negative_prompt = \"bad anatomy, deformed, ugly, disfigured, intricate details, blurry, out of focus, bad art, bad anatomy, disfig, intricate background\",\n",
    "                    # generator=torch.manual_seed(0),\n",
    "                    generator=torch.manual_seed(42),\n",
    "                    ).images[0]\n",
    "    image = remove(image)\n",
    "else:\n",
    "    depth_map_gray = cv2.cvtColor(depth_map, cv2.COLOR_RGB2GRAY)\n",
    "    depth_map_gray = cv2.normalize(depth_map_gray, None, 0, 1, cv2.NORM_MINMAX)\n",
    "    depth_map_binary = cv2.threshold(depth_map_gray, 0, 1, cv2.THRESH_BINARY)[1].astype(np.uint8)\n",
    "    depth_map_binary = cv2.medianBlur(depth_map_binary.astype(np.float32), 5)\n",
    "    depth_map_rgba = cv2.cvtColor(depth_map, cv2.COLOR_RGB2RGBA)\n",
    "    depth_map_rgba[depth_map_binary == 0] = (0, 0, 0, 0)\n",
    "    depth_map_rgba = Image.fromarray(depth_map_rgba.astype(np.uint8))\n",
    "    image = depth_map_rgba.copy()"
   ]
  },
  {
   "cell_type": "code",
   "execution_count": 10,
   "id": "dfff28be",
   "metadata": {},
   "outputs": [],
   "source": [
    "# print(\"[INFO] Image generated, now removing background...\")\n",
    "# # image_nobg = np.array(image)\n",
    "# # depth_map_gray = cv2.cvtColor(depth_map, cv2.COLOR_RGB2GRAY)\n",
    "# # depth_map_gray = cv2.normalize(depth_map_gray, None, 0, 1, cv2.NORM_MINMAX)\n",
    "# # depth_map_binary = cv2.threshold(depth_map_gray, 0, 1, cv2.THRESH_BINARY)[1].astype(np.uint8)\n",
    "# # depth_map_binary = cv2.medianBlur(depth_map_binary.astype(np.float32), 5)\n",
    "# # plt.imshow(depth_map_binary, cmap='gray')\n",
    "# # plt.show()\n",
    "# # image_nobg = cv2.cvtColor(image_nobg, cv2.COLOR_RGB2RGBA)\n",
    "# # image_nobg[depth_map_binary == 0] = (0, 0, 0, 0)\n",
    "# # image_nobg = Image.fromarray(image_nobg.astype(np.uint8))\n",
    "\n",
    "# # image_nobg = image_nobg * depth_map_binary[:, :, np.newaxis]\n",
    "# # image_nobg = Image.fromarray(image_nobg.astype(np.uint8))\n",
    "# # image_nobg = remove(image_nobg)\n",
    "\n",
    "# image_nobg = remove(image)\n",
    "# fig = make_image_grid([Image.fromarray(depth_map), image, image_nobg], rows=1, cols=3)\n",
    "# plt.figure(figsize=(15, 5))\n",
    "# plt.imshow(fig)\n",
    "# plt.axis('off')\n",
    "# plt.show()\n",
    "# fig.save(os.path.join(output_dir, f\"{object_id}_depth_rgb.png\"))\n",
    "\n",
    "# image_nobg.save(os.path.join(output_dir, f\"{object_id}_rgb_nobg.png\"))\n",
    "\n",
    "# depth_map_gray = cv2.cvtColor(depth_map, cv2.COLOR_RGB2GRAY)\n",
    "# depth_map_gray = cv2.normalize(depth_map_gray, None, 0, 1, cv2.NORM_MINMAX)\n",
    "# depth_map_binary = cv2.threshold(depth_map_gray, 0, 1, cv2.THRESH_BINARY)[1].astype(np.uint8)\n",
    "# depth_map_binary = cv2.medianBlur(depth_map_binary.astype(np.float32), 5)\n",
    "# depth_map_rgba = cv2.cvtColor(depth_map, cv2.COLOR_RGB2RGBA)\n",
    "# depth_map_rgba[depth_map_binary == 0] = (0, 0, 0, 0)\n",
    "# depth_map_rgba = Image.fromarray(depth_map_rgba.astype(np.uint8))\n",
    "# depth_map_rgba.save(os.path.join(output_dir, f\"{object_id}_depth_nobg.png\"))\n"
   ]
  },
  {
   "cell_type": "code",
   "execution_count": 11,
   "id": "51d7de8c",
   "metadata": {},
   "outputs": [
    {
     "name": "stdout",
     "output_type": "stream",
     "text": [
      "[INFO] Image prompt for Hunyuan3D:\n"
     ]
    },
    {
     "data": {
      "image/png": "[encoded data removed]",
      "text/plain": [
       "<Figure size 640x480 with 1 Axes>"
      ]
     },
     "metadata": {},
     "output_type": "display_data"
    }
   ],
   "source": [
    "print(\"[INFO] Image prompt for Hunyuan3D:\")\n",
    "plt.imshow(image)\n",
    "plt.axis('off')\n",
    "plt.show()\n",
    "image.save(os.path.join(output_dir, f\"{object_id}_img_prompt.png\"))"
   ]
  },
  {
   "cell_type": "code",
   "execution_count": 12,
   "id": "95d422f5",
   "metadata": {},
   "outputs": [
    {
     "name": "stdout",
     "output_type": "stream",
     "text": [
      "[INFO] Background removed, now generating mesh using Hunyuan3D...\n"
     ]
    },
    {
     "name": "stderr",
     "output_type": "stream",
     "text": [
      "Diffusion Sampling:: 100%|██████████| 50/50 [00:08<00:00,  6.06it/s]\n",
      "Volume Decoding: 100%|██████████| 7134/7134 [00:15<00:00, 448.71it/s]\n"
     ]
    },
    {
     "name": "stdout",
     "output_type": "stream",
     "text": [
      "[INFO] Saving mesh...\n",
      "Mesh saved to ./output/05117_mesh.ply\n"
     ]
    }
   ],
   "source": [
    "print(\"[INFO] Background removed, now generating mesh using Hunyuan3D...\")\n",
    "mesh = hunyuan3D_mesh_pipe(image=depth_map_rgba,\n",
    "                      num_inference_steps=args.inference_steps,\n",
    "                      guidance_scale = 4.5,\n",
    "                      )[0]\n",
    "# print(\"[INFO] Mesh generated, now generating texture using Hunyuan3D...\")\n",
    "# mesh = hunyuan3D_paint_pipe(mesh=mesh,\n",
    "#                             image=image_nobg,\n",
    "#                             )[0]\n",
    "# Save the mesh to a file\n",
    "print(\"[INFO] Saving mesh...\")\n",
    "mesh.export(os.path.join(output_dir, f\"{object_id}_mesh.ply\"))\n",
    "print(f\"Mesh saved to {os.path.join(output_dir, f'{object_id}_mesh.ply')}\")\n"
   ]
  },
  {
   "cell_type": "code",
   "execution_count": 13,
   "id": "321474b5",
   "metadata": {},
   "outputs": [
    {
     "name": "stdout",
     "output_type": "stream",
     "text": [
      "[Open3D INFO] Resetting default logger to print to terminal.\n",
      "[INFO] Visualizing mesh...\n",
      "[Open3D INFO] Window window_0 created.\n",
      "[Open3D INFO] EGL headless mode enabled.\n",
      "[Open3D INFO] ICE servers: [\"stun:stun.l.google.com:19302\", \"turn:user:password@34.69.27.100:3478\", \"turn:user:password@34.69.27.100:3478?transport=tcp\"]\n",
      "WARNING: Using soft CircularBuffer (6144 KiB)\n",
      "FEngine (64 bits) created at 0x7424700098a0 (threading is enabled)\n",
      "[Open3D INFO] Set WEBRTC_STUN_SERVER environment variable add a customized WebRTC STUN server.\n",
      "[Open3D INFO] WebRTC Jupyter handshake mode enabled.\n",
      "EGL(1.5)\n",
      "OpenGL(4.1)\n"
     ]
    },
    {
     "data": {
      "application/vnd.jupyter.widget-view+json": {
       "model_id": "b73b7de4050a407fa728bdaf013f308c",
       "version_major": 2,
       "version_minor": 0
      },
      "text/plain": [
       "WebVisualizer(window_uid='window_0')"
      ]
     },
     "metadata": {},
     "output_type": "display_data"
    }
   ],
   "source": [
    "from open3d.web_visualizer import draw\n",
    "\n",
    "# Visualize the mesh\n",
    "print(\"[INFO] Visualizing mesh...\")\n",
    "mesh = o3d.io.read_triangle_mesh(os.path.join(output_dir, f\"{object_id}_mesh.ply\"))\n",
    "mesh.vertices = o3d.utility.Vector3dVector(np.asarray(mesh.vertices) * np.array([-1, 1, 1]))\n",
    "\n",
    "draw([mesh])\n"
   ]
  },
  {
   "cell_type": "code",
   "execution_count": 14,
   "id": "c8d1a7f9",
   "metadata": {},
   "outputs": [
    {
     "name": "stdout",
     "output_type": "stream",
     "text": [
      "[INFO] Registering mesh to original point cloud...\n",
      "\u001b[1;33m[Open3D WARNING] Too few correspondences (571) after mutual filter, fall back to original correspondences.\u001b[0;m\n",
      "\u001b[1;33m[Open3D WARNING] Too few correspondences (571) after mutual filter, fall back to original correspondences.\u001b[0;m\n",
      "\u001b[1;33m[Open3D WARNING] Too few correspondences (571) after mutual filter, fall back to original correspondences.\u001b[0;m\n",
      "\u001b[1;33m[Open3D WARNING] Too few correspondences (570) after mutual filter, fall back to original correspondences.\u001b[0;m\n",
      "\u001b[1;33m[Open3D WARNING] Too few correspondences (570) after mutual filter, fall back to original correspondences.\u001b[0;m\n",
      "\u001b[1;33m[Open3D WARNING] Too few correspondences (571) after mutual filter, fall back to original correspondences.\u001b[0;m\n",
      "\u001b[1;33m[Open3D WARNING] Too few correspondences (571) after mutual filter, fall back to original correspondences.\u001b[0;m\n",
      "\u001b[1;33m[Open3D WARNING] Too few correspondences (571) after mutual filter, fall back to original correspondences.\u001b[0;m\n",
      "\u001b[1;33m[Open3D WARNING] Too few correspondences (571) after mutual filter, fall back to original correspondences.\u001b[0;m\n",
      "\u001b[1;33m[Open3D WARNING] Too few correspondences (570) after mutual filter, fall back to original correspondences.\u001b[0;m\n",
      "\u001b[1;33m[Open3D WARNING] Too few correspondences (570) after mutual filter, fall back to original correspondences.\u001b[0;m\n",
      "\u001b[1;33m[Open3D WARNING] Too few correspondences (571) after mutual filter, fall back to original correspondences.\u001b[0;m\n",
      "\u001b[1;33m[Open3D WARNING] Too few correspondences (571) after mutual filter, fall back to original correspondences.\u001b[0;m\n",
      "\u001b[1;33m[Open3D WARNING] Too few correspondences (571) after mutual filter, fall back to original correspondences.\u001b[0;m\n",
      "\u001b[1;33m[Open3D WARNING] Too few correspondences (571) after mutual filter, fall back to original correspondences.\u001b[0;m\n",
      "\u001b[1;33m[Open3D WARNING] Too few correspondences (571) after mutual filter, fall back to original correspondences.\u001b[0;m\n",
      "\u001b[1;33m[Open3D WARNING] Too few correspondences (571) after mutual filter, fall back to original correspondences.\u001b[0;m\n",
      "\u001b[1;33m[Open3D WARNING] Too few correspondences (571) after mutual filter, fall back to original correspondences.\u001b[0;m\n",
      "Chamfer Distance: 0.012872110618914476\n"
     ]
    }
   ],
   "source": [
    "# Register the mesh to the original point cloud\n",
    "print(\"[INFO] Registering mesh to original point cloud...\")\n",
    "\n",
    "object_id = args.obj_id\n",
    "# object_id = \"01184\"\\\n",
    "\n",
    "np.random.seed(1)\n",
    "\n",
    "# Load the ground truth mesh\n",
    "complete_pcd = o3d.io.read_triangle_mesh(f\"./redwood_dataset/GT/{object_id}.ply\")\n",
    "complete_pcd = complete_pcd.sample_points_uniformly(number_of_points=16384)\n",
    "complete_pcd.points = o3d.utility.Vector3dVector(-np.asarray(complete_pcd.points))\n",
    "translate = -complete_pcd.get_center()\n",
    "complete_pcd = complete_pcd.translate(translate)\n",
    "scale = 0.5 / np.max(np.linalg.norm(np.asarray(complete_pcd.points), axis=1))\n",
    "complete_pcd = complete_pcd.scale(scale, center=complete_pcd.get_center())\n",
    "\n",
    "# Load the partial point cloud\n",
    "partial_pcd = o3d.io.read_point_cloud(f\"./redwood_dataset/point_clouds/{object_id}.ply\")\n",
    "partial_pcd.points = o3d.utility.Vector3dVector(-np.asarray(partial_pcd.points))\n",
    "partial_pcd = partial_pcd.translate(translate)\n",
    "partial_pcd = partial_pcd.scale(scale, center=complete_pcd.get_center())\n",
    "partial_pcd = partial_pcd.farthest_point_down_sample(num_samples=16384)\n",
    "\n",
    "# Load the generated mesh\n",
    "mesh = o3d.io.read_triangle_mesh(os.path.join(output_dir, f\"{object_id}_mesh.ply\"))\n",
    "# Normalize the mesh\n",
    "mesh = mesh.translate(-mesh.get_center())\n",
    "mesh = mesh.scale(0.5 / np.max(np.linalg.norm(np.asarray(mesh.vertices), axis=1)), center=mesh.get_center())\n",
    "mesh_pcd = mesh.sample_points_uniformly(number_of_points=16384)\n",
    "mesh_pcd.points = o3d.utility.Vector3dVector(np.asarray(mesh_pcd.points) * np.array([-1, 1, 1]))\n",
    "\n",
    "# Register the mesh to the original point cloud\n",
    "scales = np.arange(0.8, 1.25, 0.025)\n",
    "# scales = np.meshgrid(scales, scales, scales)\n",
    "# scales = np.array(scales).reshape(3, -1).T\n",
    "# print(f\"Number of scales: {scales[..., None].shape}\")\n",
    "transformation = multiscale_registration(mesh_pcd, partial_pcd, scales, voxel_size=0.0025)\n",
    "\n",
    "mesh_pcd.transform(transformation)\n",
    "\n",
    "# Compute the chamfer distance\n",
    "cd_o3d = (np.mean(complete_pcd.compute_point_cloud_distance(mesh_pcd)) + \\\n",
    "    np.mean(mesh_pcd.compute_point_cloud_distance(complete_pcd))) / 2\n",
    "print(f\"Chamfer Distance: {cd_o3d}\")\n",
    "\n",
    "# from utils.chamfer_python import distChamfer\n",
    "# cd_left, cd_right, index_left, index_right = distChamfer(torch.tensor(np.asarray(complete_pcd.points)).unsqueeze(0), \n",
    "#                  torch.tensor(np.asarray(mesh_pcd.points)).unsqueeze(0))\n",
    "# print(cd_left.shape, cd_right.shape)\n",
    "# cd = (cd_left.sqrt().mean(dim=1) + cd_right.sqrt().mean(dim=1))\n",
    "# print(f\"Chamfer Distance (PyTorch): {cd.item()}\")"
   ]
  },
  {
   "cell_type": "code",
   "execution_count": 15,
   "id": "d28e6c10",
   "metadata": {},
   "outputs": [
    {
     "data": {
      "text/plain": [
       "True"
      ]
     },
     "execution_count": 15,
     "metadata": {},
     "output_type": "execute_result"
    }
   ],
   "source": [
    "# Write the registered mesh to a file\n",
    "o3d.io.write_point_cloud(os.path.join(output_dir, f\"{object_id}_pcd_complete_registered.ply\"), mesh_pcd)"
   ]
  },
  {
   "cell_type": "code",
   "execution_count": 16,
   "id": "070a8e37",
   "metadata": {},
   "outputs": [
    {
     "name": "stdout",
     "output_type": "stream",
     "text": [
      "[Open3D INFO] Window window_1 created.\n"
     ]
    },
    {
     "data": {
      "application/vnd.jupyter.widget-view+json": {
       "model_id": "349d947647ec4e3db5f58d823a464f7f",
       "version_major": 2,
       "version_minor": 0
      },
      "text/plain": [
       "WebVisualizer(window_uid='window_1')"
      ]
     },
     "metadata": {},
     "output_type": "display_data"
    }
   ],
   "source": [
    "mesh_pcd.paint_uniform_color([0, 0, 1])\n",
    "partial_pcd.paint_uniform_color([1, 0, 0])\n",
    "complete_pcd.paint_uniform_color([0, 1, 0])\n",
    "draw([mesh_pcd, partial_pcd, complete_pcd])"
   ]
  },
  {
   "cell_type": "code",
   "execution_count": 17,
   "id": "a455cfa5",
   "metadata": {},
   "outputs": [
    {
     "name": "stdout",
     "output_type": "stream",
     "text": [
      "[Open3D INFO] Window window_2 created.\n"
     ]
    },
    {
     "data": {
      "application/vnd.jupyter.widget-view+json": {
       "model_id": "234c484a412247e0ae76b40ec3c7db58",
       "version_major": 2,
       "version_minor": 0
      },
      "text/plain": [
       "WebVisualizer(window_uid='window_2')"
      ]
     },
     "metadata": {},
     "output_type": "display_data"
    }
   ],
   "source": [
    "\n",
    "draw([mesh_pcd, partial_pcd])"
   ]
  },
  {
   "cell_type": "code",
   "execution_count": 18,
   "id": "4ef89507",
   "metadata": {},
   "outputs": [
    {
     "name": "stdout",
     "output_type": "stream",
     "text": [
      "[INFO] Total run time: 61.96 seconds\n",
      "[INFO] Final Chamfer Distance: 0.0129\n",
      "[INFO] Output saved to ./output\n"
     ]
    }
   ],
   "source": [
    "# Show run time\n",
    "end_time = time.time()\n",
    "print(f\"[INFO] Total run time: {end_time - start_time:.2f} seconds\")\n",
    "print(f\"[INFO] Final Chamfer Distance: {cd_o3d:.4f}\")\n",
    "print(f\"[INFO] Output saved to {output_dir}\")"
   ]
  }
 ],
 "metadata": {
  "kernelspec": {
   "display_name": "LGM",
   "language": "python",
   "name": "python3"
  },
  "language_info": {
   "codemirror_mode": {
    "name": "ipython",
    "version": 3
   },
   "file_extension": ".py",
   "mimetype": "text/x-python",
   "name": "python",
   "nbconvert_exporter": "python",
   "pygments_lexer": "ipython3",
   "version": "3.11.5"
  }
 },
 "nbformat": 4,
 "nbformat_minor": 5
}
