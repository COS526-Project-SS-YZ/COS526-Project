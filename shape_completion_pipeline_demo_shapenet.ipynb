{
 "cells": [
  {
   "cell_type": "code",
   "execution_count": 61,
   "id": "51679dfb",
   "metadata": {},
   "outputs": [],
   "source": [
    "import os    \n",
    "import cv2  \n",
    "import argparse\n",
    "import time\n",
    "import numpy as np\n",
    "from scipy import ndimage\n",
    "from skimage.transform import resize\n",
    "from open3d.web_visualizer import draw\n",
    "\n",
    "from utils.depth_utils import *\n",
    "from utils.register_utils import *\n",
    "\n",
    "from transformers import pipeline\n",
    "from diffusers import StableDiffusionControlNetPipeline, ControlNetModel, UniPCMultistepScheduler\n",
    "from PIL import Image\n",
    "import matplotlib.pyplot as plt\n",
    "import numpy as np\n",
    "import torch\n",
    "from diffusers.utils import load_image\n",
    "\n",
    "from rembg import remove\n",
    "from diffusers.utils import make_image_grid"
   ]
  },
  {
   "cell_type": "code",
   "execution_count": 62,
   "id": "cf41380a",
   "metadata": {},
   "outputs": [
    {
     "name": "stderr",
     "output_type": "stream",
     "text": [
      "2025-05-14 16:03:19,747 - hy3dgen.shapgen - INFO - Try to load model from local path: /home/warrenz/.cache/hy3dgen/tencent/Hunyuan3D-2/hunyuan3d-dit-v2-0\n",
      "2025-05-14 16:03:19,748 - hy3dgen.shapgen - INFO - Model path not exists, try to download from huggingface\n"
     ]
    },
    {
     "data": {
      "application/vnd.jupyter.widget-view+json": {
       "model_id": "9099cfd278934a04890a6eaf2956bf51",
       "version_major": 2,
       "version_minor": 0
      },
      "text/plain": [
       "Fetching 6 files:   0%|          | 0/6 [00:00<?, ?it/s]"
      ]
     },
     "metadata": {},
     "output_type": "display_data"
    },
    {
     "name": "stderr",
     "output_type": "stream",
     "text": [
      "2025-05-14 16:03:19,935 - hy3dgen.shapgen - INFO - Loading model from /home/warrenz/.cache/huggingface/hub/models--tencent--Hunyuan3D-2/snapshots/34e28261f71c32975727be8db0eace439a280f82/hunyuan3d-dit-v2-0/model.fp16.safetensors\n"
     ]
    },
    {
     "data": {
      "application/vnd.jupyter.widget-view+json": {
       "model_id": "399254bf873247f0b035350c3feb4c2e",
       "version_major": 2,
       "version_minor": 0
      },
      "text/plain": [
       "Loading pipeline components...:   0%|          | 0/6 [00:00<?, ?it/s]"
      ]
     },
     "metadata": {},
     "output_type": "display_data"
    },
    {
     "name": "stderr",
     "output_type": "stream",
     "text": [
      "You have disabled the safety checker for <class 'diffusers.pipelines.controlnet.pipeline_controlnet.StableDiffusionControlNetPipeline'> by passing `safety_checker=None`. Ensure that you abide to the conditions of the Stable Diffusion license and do not expose unfiltered results in services or applications open to the public. Both the diffusers team and Hugging Face strongly recommend to keep the safety filter enabled in all public facing circumstances, disabling it only for use-cases that involve analyzing network behavior or auditing its results. For more information, please have a look at https://github.com/huggingface/diffusers/pull/254 .\n",
      "It seems like you have activated model offloading by calling `enable_model_cpu_offload`, but are now manually moving the pipeline to GPU. It is strongly recommended against doing so as memory gains from offloading are likely to be lost. Offloading automatically takes care of moving the individual components vae, text_encoder, tokenizer, unet, controlnet, scheduler, safety_checker, feature_extractor, image_encoder to GPU when needed. To make sure offloading works as expected, you should consider moving the pipeline back to CPU: `pipeline.to('cpu')` or removing the move altogether if you use offloading.\n"
     ]
    },
    {
     "data": {
      "text/plain": [
       "StableDiffusionControlNetPipeline {\n",
       "  \"_class_name\": \"StableDiffusionControlNetPipeline\",\n",
       "  \"_diffusers_version\": \"0.32.2\",\n",
       "  \"_name_or_path\": \"runwayml/stable-diffusion-v1-5\",\n",
       "  \"controlnet\": [\n",
       "    \"diffusers\",\n",
       "    \"ControlNetModel\"\n",
       "  ],\n",
       "  \"feature_extractor\": [\n",
       "    \"transformers\",\n",
       "    \"CLIPImageProcessor\"\n",
       "  ],\n",
       "  \"image_encoder\": [\n",
       "    null,\n",
       "    null\n",
       "  ],\n",
       "  \"requires_safety_checker\": true,\n",
       "  \"safety_checker\": [\n",
       "    null,\n",
       "    null\n",
       "  ],\n",
       "  \"scheduler\": [\n",
       "    \"diffusers\",\n",
       "    \"UniPCMultistepScheduler\"\n",
       "  ],\n",
       "  \"text_encoder\": [\n",
       "    \"transformers\",\n",
       "    \"CLIPTextModel\"\n",
       "  ],\n",
       "  \"tokenizer\": [\n",
       "    \"transformers\",\n",
       "    \"CLIPTokenizer\"\n",
       "  ],\n",
       "  \"unet\": [\n",
       "    \"diffusers\",\n",
       "    \"UNet2DConditionModel\"\n",
       "  ],\n",
       "  \"vae\": [\n",
       "    \"diffusers\",\n",
       "    \"AutoencoderKL\"\n",
       "  ]\n",
       "}"
      ]
     },
     "execution_count": 62,
     "metadata": {},
     "output_type": "execute_result"
    }
   ],
   "source": [
    "\n",
    "\n",
    "from hy3dgen.texgen import Hunyuan3DPaintPipeline\n",
    "from hy3dgen.shapegen import Hunyuan3DDiTFlowMatchingPipeline\n",
    "\n",
    "hunyuan3D_mesh_pipe = Hunyuan3DDiTFlowMatchingPipeline.from_pretrained('tencent/Hunyuan3D-2')\n",
    "# hunyuan3D_paint_pipe = Hunyuan3DPaintPipeline.from_pretrained('tencent/Hunyuan3D-2')\n",
    "\n",
    "controlnet = ControlNetModel.from_pretrained(\n",
    "    \"lllyasviel/sd-controlnet-depth\", torch_dtype=torch.float16\n",
    ")\n",
    "\n",
    "d2i_pipe = StableDiffusionControlNetPipeline.from_pretrained(\n",
    "    \"runwayml/stable-diffusion-v1-5\", controlnet=controlnet, safety_checker=None, torch_dtype=torch.float16\n",
    ")\n",
    "\n",
    "d2i_pipe.scheduler = UniPCMultistepScheduler.from_config(d2i_pipe.scheduler.config)\n",
    "\n",
    "# Remove if you do not have xformers installed\n",
    "# see https://huggingface.co/docs/diffusers/v0.13.0/en/optimization/xformers#installing-xformers\n",
    "# for installation instructions\n",
    "d2i_pipe.enable_xformers_memory_efficient_attention()\n",
    "\n",
    "d2i_pipe.enable_model_cpu_offload()\n",
    "d2i_pipe.to(\"cuda\")"
   ]
  },
  {
   "cell_type": "code",
   "execution_count": 147,
   "id": "d28b6177",
   "metadata": {},
   "outputs": [],
   "source": [
    "shapenet_synset_to_category = {\n",
    "    \"04379243\": \"table\",\n",
    "    \"03593526\": \"jar\",\n",
    "    \"04225987\": \"skateboard\",\n",
    "    \"02958343\": \"car\",\n",
    "    \"02876657\": \"bottle\",\n",
    "    \"04460130\": \"tower\",\n",
    "    \"03001627\": \"chair\",\n",
    "    \"02871439\": \"bookshelf\",\n",
    "    \"02942699\": \"camera\",\n",
    "    \"02691156\": \"airplane\",\n",
    "    \"03642806\": \"laptop\",\n",
    "    \"02801938\": \"basket\",\n",
    "    \"04256520\": \"sofa\",\n",
    "    \"03624134\": \"knife\",\n",
    "    \"02946921\": \"can\",\n",
    "    \"04090263\": \"rifle\",\n",
    "    \"04468005\": \"train\",\n",
    "    \"03938244\": \"pillow\",\n",
    "    \"03636649\": \"lamp\",\n",
    "    \"02747177\": \"trash bin\",\n",
    "    \"03710193\": \"mailbox\",\n",
    "    \"04530566\": \"watercraft\",\n",
    "    \"03790512\": \"motorbike\",\n",
    "    \"03207941\": \"dishwasher\",\n",
    "    \"02828884\": \"bench\",\n",
    "    \"03948459\": \"pistol\",\n",
    "    \"04099429\": \"rocket\",\n",
    "    \"03691459\": \"loudspeaker\",\n",
    "    \"03337140\": \"file cabinet\",\n",
    "    \"02773838\": \"bag\",\n",
    "    \"02933112\": \"cabinet\",\n",
    "    \"02818832\": \"bed\",\n",
    "    \"02843684\": \"birdhouse\",\n",
    "    \"03211117\": \"display\",\n",
    "    \"03928116\": \"piano\",\n",
    "    \"03261776\": \"earphone\",\n",
    "    \"04401088\": \"telephone\",\n",
    "    \"04330267\": \"stove\",\n",
    "    \"03759954\": \"microphone\",\n",
    "    \"02924116\": \"bus\",\n",
    "    \"03797390\": \"mug\",\n",
    "    \"04074963\": \"remote\",\n",
    "    \"02808440\": \"bathtub\",\n",
    "    \"02880940\": \"bowl\",\n",
    "    \"03085013\": \"keyboard\",\n",
    "    \"03467517\": \"guitar\",\n",
    "    \"04554684\": \"washer\",\n",
    "    \"02834778\": \"bicycle\",\n",
    "    \"03325088\": \"faucet\",\n",
    "    \"04004475\": \"printer\",\n",
    "    \"02954340\": \"cap\",\n",
    "}\n",
    "\n",
    "shapenet_category_to_synset = {v: k for k, v in shapenet_synset_to_category.items()}\n"
   ]
  },
  {
   "cell_type": "code",
   "execution_count": 288,
   "id": "d2394586",
   "metadata": {},
   "outputs": [
    {
     "name": "stdout",
     "output_type": "stream",
     "text": [
      "Namespace(category='chair', verbose=True, output_dir='./output_shapenet', gen_rgb=False, depth_inpainting=False, inference_steps=50, seed=42)\n"
     ]
    }
   ],
   "source": [
    "# params\n",
    "parser = argparse.ArgumentParser()\n",
    "parser.add_argument(\n",
    "    \"--category\",\n",
    "    type=str,\n",
    "    default=\"table\",\n",
    "    help=\"Object category to generate (e.g., airplane, car, etc.)\",\n",
    ")\n",
    "parser.add_argument(\n",
    "    \"--verbose\",\n",
    "    action=\"store_true\",\n",
    "    help=\"Enable verbose output\",\n",
    ")\n",
    "parser.add_argument(\n",
    "    \"--output_dir\",\n",
    "    type=str,\n",
    "    default=\"./output_shapenet\",\n",
    "    help=\"Directory to save output images\",\n",
    ")\n",
    "parser.add_argument(\n",
    "    \"--gen_rgb\",\n",
    "    action=\"store_true\",\n",
    "    help=\"Generate RGB image using ControlNet\",\n",
    ")\n",
    "parser.add_argument(\n",
    "    \"--depth_inpainting\",\n",
    "    action=\"store_true\",\n",
    "    help=\"Enable depth inpainting\",\n",
    ")\n",
    "parser.add_argument(\n",
    "    \"--inference_steps\",\n",
    "    type=int,\n",
    "    default=100,\n",
    "    help=\"Number of inference steps for image generation\",\n",
    ")\n",
    "parser.add_argument(\n",
    "    \"--seed\",\n",
    "    type=int,\n",
    "    default=42,\n",
    "    help=\"Random seed for reproducibility\",\n",
    ")\n",
    "args = parser.parse_args(['--category', 'chair', \n",
    "                          '--verbose', \n",
    "                        #   '--gen_rgb', \n",
    "                        #   '--depth_inpainting', \n",
    "                          '--inference_steps', '50'])\n",
    "print(args)"
   ]
  },
  {
   "cell_type": "code",
   "execution_count": 372,
   "id": "6c319e2e",
   "metadata": {},
   "outputs": [
    {
     "name": "stdout",
     "output_type": "stream",
     "text": [
      "Found 6778 objects in category chair, the sampled object ID is f0f9048f45eed1ab3a8888e78d004b3\n",
      "Loading object from /home/warrenz/Documents/mmt/data/data/data_3D/shapenetv2/03001627/f0f9048f45eed1ab3a8888e78d004b3/models/model_normalized.obj\n"
     ]
    }
   ],
   "source": [
    "import random\n",
    "\n",
    "output_dir = args.output_dir\n",
    "if not os.path.exists(output_dir):\n",
    "    os.makedirs(output_dir)\n",
    "\n",
    "shapenet_root = '/home/warrenz/Documents/mmt/data/data/data_3D/shapenetv2'\n",
    "category_dir = os.path.join(shapenet_root, shapenet_category_to_synset[args.category])\n",
    "obj_id_list = os.listdir(category_dir)\n",
    "obj_id = random.sample(obj_id_list, 1)[0]  # Randomly sample one object ID\n",
    "print(f\"Found {len(obj_id_list)} objects in category {args.category}, the sampled object ID is {obj_id}\")\n",
    "obj_dir = os.path.join(category_dir, obj_id,  'models', 'model_normalized.obj')\n",
    "print(f\"Loading object from {obj_dir}\")\n"
   ]
  },
  {
   "cell_type": "code",
   "execution_count": 373,
   "id": "853d09de",
   "metadata": {},
   "outputs": [
    {
     "name": "stdout",
     "output_type": "stream",
     "text": [
      "Camera position: [ 0.90084775  1.24448841 -1.28051628]\n"
     ]
    }
   ],
   "source": [
    "# randomly sample a camera position on the upper hemisphere up to degree 45\n",
    "camera_angles = np.random.rand(2) * np.pi / 2\n",
    "camera_angles[0] = camera_angles[0] * 2 * np.pi  # azimuth\n",
    "camera_pos = np.array([\n",
    "    np.sin(camera_angles[0]) * np.cos(camera_angles[1]),\n",
    "    np.sin(camera_angles[0]) * np.sin(camera_angles[1]),\n",
    "    np.cos(camera_angles[0]),\n",
    "])\n",
    "# Normalize the camera position to be on the unit sphere\n",
    "\n",
    "# camera_pos = np.random.randn(3)\n",
    "camera_pos[1] = abs(camera_pos[1])\n",
    "camera_pos = camera_pos / np.linalg.norm(camera_pos) * 2.0\n",
    "print(f\"Camera position: {camera_pos}\")"
   ]
  },
  {
   "cell_type": "code",
   "execution_count": 374,
   "id": "58304f30",
   "metadata": {},
   "outputs": [],
   "source": [
    "# Set the random seed for reproducibility\n",
    "torch.manual_seed(args.seed)\n",
    "np.random.seed(args.seed)"
   ]
  },
  {
   "cell_type": "code",
   "execution_count": 375,
   "id": "1282126a",
   "metadata": {},
   "outputs": [],
   "source": [
    "# import shapenet mesh\n",
    "def load_shapenet_mesh(mesh_path):\n",
    "    mesh = o3d.io.read_triangle_mesh(mesh_path)\n",
    "    return mesh"
   ]
  },
  {
   "cell_type": "code",
   "execution_count": 376,
   "id": "aeeedd0d",
   "metadata": {},
   "outputs": [
    {
     "name": "stdout",
     "output_type": "stream",
     "text": [
      "[Open3D INFO] Skipping non-triangle primitive geometry of type: 2\n",
      "Mesh center: [ 2.47162567e-17 -1.25671289e-16  1.11378532e-16]\n",
      "Mesh scale: 0.7940099835395813\n",
      "Mesh bounding box: AxisAlignedBoundingBox: min: (-0.251556, -0.530513, -0.271371), max: (0.252071, 0.469487, 0.305277)\n",
      "\u001b[1;33m[Open3D WARNING] Legacy mesh has more than 1 material which is not supported by Tensor-based mesh. Only material DefaultMaterial was converted.\u001b[0;m\n"
     ]
    },
    {
     "data": {
      "image/png": "[encoded data removed]",
      "text/plain": [
       "<Figure size 640x480 with 1 Axes>"
      ]
     },
     "metadata": {},
     "output_type": "display_data"
    },
    {
     "name": "stdout",
     "output_type": "stream",
     "text": [
      "Partial point cloud shape: (589824, 3)\n"
     ]
    },
    {
     "name": "stderr",
     "output_type": "stream",
     "text": [
      "/tmp/ipykernel_645219/1326523157.py:90: RuntimeWarning: invalid value encountered in multiply\n",
      "  x_c = (uu - cx) * dd / fx\n",
      "/tmp/ipykernel_645219/1326523157.py:91: RuntimeWarning: invalid value encountered in multiply\n",
      "  y_c = (vv - cy) * dd / fy\n",
      "/tmp/ipykernel_645219/1326523157.py:97: RuntimeWarning: invalid value encountered in matmul\n",
      "  pts_w_h = (E_inv @ pts_c.T).T    # (N,4)\n"
     ]
    }
   ],
   "source": [
    "mesh = load_shapenet_mesh(obj_dir)\n",
    "\n",
    "# normalize the mesh into [-0.5, 0.5] range\n",
    "translation = mesh.get_center()\n",
    "scale = max(mesh.get_max_bound() - mesh.get_min_bound())\n",
    "mesh.translate(-translation)\n",
    "mesh.scale(1.0 / scale, center=(0, 0, 0))\n",
    "print(f\"Mesh center: {mesh.get_center()}\")\n",
    "print(f\"Mesh scale: {scale}\")\n",
    "print(f\"Mesh bounding box: {mesh.get_axis_aligned_bounding_box()}\")\n",
    "\n",
    "\n",
    "def render_depth_with_raycast(intrinsic, width, height, extrinsic, tmesh):\n",
    "    # Create a RaycastingScene and add the mesh\n",
    "    scene = o3d.t.geometry.RaycastingScene()\n",
    "    _ = scene.add_triangles(tmesh)  # returns a geometry ID\n",
    "\n",
    "    # Generate rays for each pixel\n",
    "    rays = scene.create_rays_pinhole(\n",
    "        intrinsic_matrix=intrinsic,   # 3×3 Tensor\n",
    "        extrinsic_matrix=extrinsic,   # 4×4 Tensor\n",
    "        width_px=width,\n",
    "        height_px=height\n",
    "    )\n",
    "    # Cast rays and extract hit distances\n",
    "    ans   = scene.cast_rays(rays)\n",
    "    depth = ans[\"t_hit\"].numpy() #/ 1000.0  # convert from mm if needed\n",
    "    return depth  # H×W NumPy array\n",
    "\n",
    "def compute_extrinsics(camera_pos, look_at=(0,0,0), up_world=(0,-1,0)):\n",
    "    c = np.array(camera_pos, dtype=float)\n",
    "    forward = (np.array(look_at) - c)\n",
    "    forward /= np.linalg.norm(forward)\n",
    "    right = np.cross(up_world, forward)\n",
    "    right /= np.linalg.norm(right)\n",
    "    up = np.cross(forward, right)\n",
    "    R = np.stack([right, up, forward], axis=1)  # cols are basis\n",
    "    t = -R.T @ c\n",
    "    E = np.eye(4)\n",
    "    E[:3,:3] = R.T\n",
    "    E[:3, 3] = t\n",
    "    return E\n",
    "\n",
    "def compute_intrinsics(camera_pos, width, height):\n",
    "    d = np.linalg.norm(camera_pos)\n",
    "    ratio = 1.0\n",
    "    fov = 2 * np.arctan(ratio / d)\n",
    "    f = 0.5 * width / np.tan(fov / 2)\n",
    "    K = np.array([[f, 0, width / 2],\n",
    "                  [0, f, height / 2],\n",
    "                  [0, 0,      1      ]], dtype=float)\n",
    "    return K\n",
    "\n",
    "# Example usage:\n",
    "W, H = 768, 768\n",
    "\n",
    "intr = compute_intrinsics(camera_pos, W, H)\n",
    "extr = compute_extrinsics(camera_pos)\n",
    "\n",
    "tmesh = o3d.t.geometry.TriangleMesh.from_legacy(mesh)\n",
    "depth_map = render_depth_with_raycast(intr, W, H, extr, tmesh)\n",
    "\n",
    "# visualize the depth map\n",
    "def visualize_depth_map(depth_map):\n",
    "    plt.imshow(depth_map, cmap='gray')\n",
    "    plt.axis('off')\n",
    "    plt.show()\n",
    "visualize_depth_map(depth_map)\n",
    "\n",
    "def depth_to_world_points(depth, K, E, depth_scale=1.0):\n",
    "    H, W = depth.shape\n",
    "    fx, fy = K[0,0], K[1,1]\n",
    "    cx, cy = K[0,2], K[1,2]\n",
    "\n",
    "    # Create a grid of (u,v) pixel coordinates\n",
    "    u = np.arange(W)\n",
    "    v = np.arange(H)\n",
    "    uu, vv = np.meshgrid(u, v)\n",
    "\n",
    "    # Flatten\n",
    "    uu = uu.ravel()\n",
    "    vv = vv.ravel()\n",
    "    dd = (depth.ravel() / depth_scale)\n",
    "\n",
    "    # Keep only positive depth\n",
    "    valid = dd > 0\n",
    "    uu, vv, dd = uu[valid], vv[valid], dd[valid]\n",
    "\n",
    "    # Unproject to camera frame\n",
    "    x_c = (uu - cx) * dd / fx\n",
    "    y_c = (vv - cy) * dd / fy\n",
    "    z_c = dd\n",
    "    pts_c = np.stack((x_c, y_c, z_c, np.ones_like(z_c)), axis=1)  # (N,4)\n",
    "\n",
    "    # Transform to world frame via inverse extrinsic\n",
    "    E_inv = np.linalg.inv(E)\n",
    "    pts_w_h = (E_inv @ pts_c.T).T    # (N,4)\n",
    "    points_w = pts_w_h[:, :3]        # discard homog. coord\n",
    "\n",
    "    return points_w\n",
    "\n",
    "partial_pcl = depth_to_world_points(depth_map, intr, extr, depth_scale=1.0)\n",
    "# translate by the camera position\n",
    "print(f\"Partial point cloud shape: {partial_pcl.shape}\")"
   ]
  },
  {
   "cell_type": "code",
   "execution_count": 377,
   "id": "a93e18c3",
   "metadata": {},
   "outputs": [
    {
     "name": "stdout",
     "output_type": "stream",
     "text": [
      "Partial point cloud shape: (589824, 3)\n",
      "Partial point cloud shape: (57350, 3)\n",
      "Partial point cloud shape: (57350, 3)\n",
      "Partial point cloud shape: (57350, 3), <class 'numpy.ndarray'>\n",
      "Mesh point cloud shape: (16384, 3), <class 'numpy.ndarray'>\n"
     ]
    }
   ],
   "source": [
    "print(f\"Partial point cloud shape: {partial_pcl.shape}\")\n",
    "# randomly sample 16384 points from the partial point cloud\n",
    "partial_pcl = partial_pcl[~np.isnan(partial_pcl).any(axis=1)]\n",
    "print(f\"Partial point cloud shape: {partial_pcl.shape}\")\n",
    "pcl = o3d.geometry.PointCloud()\n",
    "pcl.points = o3d.utility.Vector3dVector(partial_pcl)\n",
    "pcl = pcl.farthest_point_down_sample(min(60000, partial_pcl.shape[0]))\n",
    "partial_pcl = np.asarray(pcl.points)\n",
    "# partial_pcl = partial_pcl[np.random.choice(partial_pcl.shape[0], 16384, replace=False), :]\n",
    "print(f\"Partial point cloud shape: {partial_pcl.shape}\")\n",
    "mesh_pcl = mesh.sample_points_uniformly(16384)\n",
    "mesh_pcl = np.asarray(mesh_pcl.points)\n",
    "print(f\"Partial point cloud shape: {partial_pcl.shape}, {type(partial_pcl)}\")\n",
    "print(f\"Mesh point cloud shape: {mesh_pcl.shape}, {type(mesh_pcl)}\")\n",
    "# Visualize using matplotlib\n",
    "np.savetxt(os.path.join(output_dir, f\"partial_pcl_{args.category}_{obj_id}.xyz\"), partial_pcl)\n",
    "np.savetxt(os.path.join(output_dir, f\"mesh_pcl_{args.category}_{obj_id}.xyz\"), mesh_pcl)"
   ]
  },
  {
   "cell_type": "code",
   "execution_count": 378,
   "id": "ff51190f",
   "metadata": {},
   "outputs": [],
   "source": [
    "# Start the timer\n",
    "start_time = time.time()"
   ]
  },
  {
   "cell_type": "code",
   "execution_count": 379,
   "id": "bf587874",
   "metadata": {},
   "outputs": [
    {
     "name": "stderr",
     "output_type": "stream",
     "text": [
      "Computing visibility with convex hull: 100%|██████████| 2000/2000 [00:10<00:00, 184.55it/s]\n"
     ]
    },
    {
     "name": "stdout",
     "output_type": "stream",
     "text": [
      "[INFO] Best camera position: [ 1.31620223 -0.531348   -1.409     ]\n",
      "[INFO] Best visible count: 6694\n",
      "[INFO] Current radius: 1.6817928305074292\n"
     ]
    },
    {
     "name": "stderr",
     "output_type": "stream",
     "text": [
      "Computing visibility with depth map: 100%|██████████| 100/100 [00:01<00:00, 59.21it/s]\n"
     ]
    },
    {
     "name": "stdout",
     "output_type": "stream",
     "text": [
      "[INFO] Best camera position: [ 1.04257616  0.8053122  -1.50482797]\n",
      "[INFO] Best visible count: 18000\n",
      "Iteration: 1 Best visible count: 18000\n",
      "[INFO] Current radius: 1.414213562373095\n"
     ]
    },
    {
     "name": "stderr",
     "output_type": "stream",
     "text": [
      "Computing visibility with depth map: 100%|██████████| 100/100 [00:01<00:00, 59.94it/s]\n"
     ]
    },
    {
     "name": "stdout",
     "output_type": "stream",
     "text": [
      "[INFO] Best camera position: [ 0.5153353   1.49750118 -1.22144166]\n",
      "[INFO] Best visible count: 19760\n",
      "Iteration: 2 Best visible count: 19760\n",
      "[INFO] Current radius: 1.189207115002721\n"
     ]
    },
    {
     "name": "stderr",
     "output_type": "stream",
     "text": [
      "Computing visibility with depth map: 100%|██████████| 100/100 [00:01<00:00, 60.99it/s]\n"
     ]
    },
    {
     "name": "stdout",
     "output_type": "stream",
     "text": [
      "[INFO] Best camera position: [ 0.59054142  1.49978728 -1.18401814]\n",
      "[INFO] Best visible count: 19801\n",
      "Iteration: 3 Best visible count: 19801\n",
      "[INFO] Current radius: 1.0\n"
     ]
    },
    {
     "name": "stderr",
     "output_type": "stream",
     "text": [
      "Computing visibility with depth map: 100%|██████████| 100/100 [00:01<00:00, 61.39it/s]\n"
     ]
    },
    {
     "name": "stdout",
     "output_type": "stream",
     "text": [
      "Iteration: 4 Best visible count: 19801\n",
      "[INFO] Current radius: 0.8408964152537146\n"
     ]
    },
    {
     "name": "stderr",
     "output_type": "stream",
     "text": [
      "Computing visibility with depth map: 100%|██████████| 100/100 [00:01<00:00, 61.16it/s]"
     ]
    },
    {
     "name": "stdout",
     "output_type": "stream",
     "text": [
      "Iteration: 5 Best visible count: 19801\n",
      "[INFO] Best camera position: [ 0.59054142  1.49978728 -1.18401814]\n",
      "[INFO] Best visible count: 19801\n"
     ]
    },
    {
     "name": "stderr",
     "output_type": "stream",
     "text": [
      "\n"
     ]
    }
   ],
   "source": [
    "_, _, best_depth_map, best_depth_map_low, _ = find_best_camera_iter_w_low(partial_pcl, \n",
    "                                                                        n_cam_hull=2000, \n",
    "                                                                        fps_hull=16384,\n",
    "                                                                        n_cam_depth_iter=100, \n",
    "                                                                        radius=2.0,\n",
    "                                                                        width=512,\n",
    "                                                                        height=512,\n",
    "                                                                        fov_deg=60,\n",
    "                                                                        low_res_ratio=1/8,\n",
    "                                                                        depth_look_at=(0, 0, 0),\n",
    "                                                                        depth_up=(0, -1, 0))\n",
    "\n",
    "depth_map_c = cv2.medianBlur(best_depth_map.astype(np.float32), 5)\n",
    "# depth_map_c = best_depth_map.astype(np.float32)"
   ]
  },
  {
   "cell_type": "code",
   "execution_count": 380,
   "id": "8ce9e68e",
   "metadata": {},
   "outputs": [
    {
     "data": {
      "text/plain": [
       "(np.float64(-0.5), np.float64(511.5), np.float64(511.5), np.float64(-0.5))"
      ]
     },
     "execution_count": 380,
     "metadata": {},
     "output_type": "execute_result"
    },
    {
     "data": {
      "image/png": "[encoded data removed]",
      "text/plain": [
       "<Figure size 640x480 with 1 Axes>"
      ]
     },
     "metadata": {},
     "output_type": "display_data"
    }
   ],
   "source": [
    "plt.imshow(depth_map_c, cmap='gray')\n",
    "plt.axis('off')"
   ]
  },
  {
   "cell_type": "code",
   "execution_count": 381,
   "id": "c7551992",
   "metadata": {},
   "outputs": [
    {
     "data": {
      "text/plain": [
       "(np.float64(-0.5), np.float64(63.5), np.float64(63.5), np.float64(-0.5))"
      ]
     },
     "execution_count": 381,
     "metadata": {},
     "output_type": "execute_result"
    },
    {
     "data": {
      "image/png": "[encoded data removed]",
      "text/plain": [
       "<Figure size 640x480 with 1 Axes>"
      ]
     },
     "metadata": {},
     "output_type": "display_data"
    }
   ],
   "source": [
    "plt.imshow(best_depth_map_low, cmap='gray')\n",
    "plt.axis('off')"
   ]
  },
  {
   "cell_type": "code",
   "execution_count": 382,
   "id": "f9564355",
   "metadata": {},
   "outputs": [
    {
     "name": "stdout",
     "output_type": "stream",
     "text": [
      "Prompt: chair\n"
     ]
    }
   ],
   "source": [
    "text_prompt = \"A photo of a \" + args.category + \" in the style of a 3D model\"\n",
    "# prompt_tag = \"_\".join(text_prompt.lower().split(\" \"))\n",
    "prompt_tag = args.category\n",
    "print(f\"Prompt: {args.category}\")"
   ]
  },
  {
   "cell_type": "code",
   "execution_count": 383,
   "id": "6091857c",
   "metadata": {},
   "outputs": [],
   "source": [
    "if args.depth_inpainting:\n",
    "    depth_map_c = cv2.medianBlur(best_depth_map.astype(np.float32), 5)\n",
    "    # depth_map_c = cv2.medianBlur(depth_map_c.astype(np.float32), 5)\n",
    "    # depth_map_c = cv2.medianBlur(depth_map_c.astype(np.float32), 5)\n",
    "    depth_map_binary = cv2.threshold(depth_map_c, 0, 1, cv2.THRESH_BINARY)[1].astype(np.uint8)\n",
    "    depth_map_binary_low = cv2.threshold(best_depth_map_low, 0, 1, cv2.THRESH_BINARY)[1]\n",
    "    depth_map_binary_low = cv2.GaussianBlur(depth_map_binary_low, (5,5), sigmaX=1.0, sigmaY=1.0)\n",
    "    depth_map_binary_low_up = cv2.resize(depth_map_binary_low, (depth_map_c.shape[1], depth_map_c.shape[0]), interpolation=cv2.INTER_LANCZOS4)\n",
    "    depth_map_binary_low_up = cv2.threshold(depth_map_binary_low_up, 0.5, 1, cv2.THRESH_BINARY)[1].astype(np.uint8)\n",
    "    depth_map_xor = cv2.bitwise_xor(depth_map_binary, depth_map_binary_low_up)\n",
    "    depth_map_xor[depth_map_binary != 0] = 0\n",
    "    \n",
    "    from diffusers import StableDiffusionInpaintPipeline\n",
    "    from PIL import Image\n",
    "    pipe = StableDiffusionInpaintPipeline.from_pretrained(\n",
    "        \"stabilityai/stable-diffusion-2-inpainting\",\n",
    "        torch_dtype=torch.float16,\n",
    "    )\n",
    "\n",
    "    pipe.to(\"cuda\")\n",
    "    prompt = text_prompt\n",
    "    negative_prompt = \"bad anatomy, deformed, ugly, disfigured, intricate details, blurry, out of focus, bad art, bad anatomy, disfig\"\n",
    "    #image and mask_image should be PIL images.\n",
    "    # convert the depth map to a PIL image\n",
    "    depth_map_image = cv2.normalize(depth_map_c, None, 0, 255, cv2.NORM_MINMAX).astype(np.uint8)\n",
    "    depth_map_image = cv2.cvtColor(depth_map_image, cv2.COLOR_GRAY2RGB)\n",
    "    depth_map_image = cv2.resize(depth_map_image, (512, 512), interpolation=cv2.INTER_NEAREST)\n",
    "    # convert the binary mask to a PIL image\n",
    "    mask_image = cv2.normalize(depth_map_xor, None, 0, 255, cv2.NORM_MINMAX).astype(np.uint8)\n",
    "    mask_image = cv2.cvtColor(mask_image, cv2.COLOR_GRAY2RGB)\n",
    "    mask_image = cv2.resize(mask_image, (512, 512), interpolation=cv2.INTER_NEAREST)\n",
    "    #The mask structure is white for inpainting and black for keeping as is\n",
    "    depth_map = pipe(prompt=prompt, \n",
    "                        negative_prompt=negative_prompt, \n",
    "                        image=Image.fromarray(depth_map_image), \n",
    "                        mask_image=Image.fromarray(mask_image),\n",
    "                num_inference_steps=100,\n",
    "                guidance_scale=2.0\n",
    "                ).images[0]\n",
    "    depth_map = np.array(depth_map)\n",
    "    make_image_grid([Image.fromarray(depth_map_image), \n",
    "                     Image.fromarray(mask_image), \n",
    "                     Image.fromarray(depth_map)], rows=1, cols=3).save(\n",
    "                         os.path.join(output_dir, f\"{prompt_tag}_depth_inpaint.png\"))\n",
    "else:\n",
    "    # depth_map_c = cv2.medianBlur(depth_map_c.astype(np.float32), 5)\n",
    "    depth_map = cv2.normalize(depth_map_c, None, 0, 255, cv2.NORM_MINMAX).astype(np.uint8)\n",
    "    # increase a little bit contrast\n",
    "    depth_map = cv2.convertScaleAbs(depth_map, alpha=0.9, beta=0)\n",
    "    depth_map = cv2.cvtColor(depth_map, cv2.COLOR_GRAY2RGB)\n",
    "    depth_map = cv2.resize(depth_map, (512, 512), interpolation=cv2.INTER_NEAREST)\n",
    "    make_image_grid([Image.fromarray(depth_map)], rows=1, cols=1).save(os.path.join(output_dir, f\"{prompt_tag}_depth.png\"))\n",
    "\n",
    "# depth_map = cv2.flip(depth_map, 1)"
   ]
  },
  {
   "cell_type": "code",
   "execution_count": 384,
   "id": "48f8a1c8",
   "metadata": {},
   "outputs": [
    {
     "data": {
      "image/png": "[encoded data removed]",
      "text/plain": [
       "<Figure size 640x480 with 1 Axes>"
      ]
     },
     "metadata": {},
     "output_type": "display_data"
    }
   ],
   "source": [
    "plt.imshow(depth_map)\n",
    "plt.axis('off')\n",
    "plt.show()"
   ]
  },
  {
   "cell_type": "code",
   "execution_count": 385,
   "id": "6fc6afb9",
   "metadata": {},
   "outputs": [],
   "source": [
    "if args.gen_rgb:\n",
    "    print(\"[INFO] Depth map generated, now generating image using ControlNet...\")\n",
    "    auxiliary_prompt = \", clean background, no people, no animals\"\n",
    "    # auxiliary_prompt = \"\"\n",
    "    image = d2i_pipe(text_prompt + auxiliary_prompt,\n",
    "                    Image.fromarray(depth_map), \n",
    "                    num_inference_steps=args.inference_steps,\n",
    "                    # num_inference_steps=75,\n",
    "                    guidance_scale = 6.0,\n",
    "                    controlnet_conditioning_scale=1.1,\n",
    "                    negative_prompt=\"bad anatomy, deformed, ugly, disfigured, \\\n",
    "                    intricate details, blurry, out of focus, bad art, bad anatomy\",\n",
    "                    # negative_prompt = \"bad anatomy, deformed, ugly, disfigured, intricate details, blurry, out of focus, bad art, bad anatomy, disfig, intricate background\",\n",
    "                    # generator=torch.manual_seed(0),\n",
    "                    # generator=torch.manual_seed(42),\n",
    "                    ).images[0]\n",
    "    image = remove(image)\n",
    "else:\n",
    "    depth_map_gray = cv2.cvtColor(depth_map, cv2.COLOR_RGB2GRAY)\n",
    "    depth_map_gray = cv2.normalize(depth_map_gray, None, 0, 1, cv2.NORM_MINMAX)\n",
    "    depth_map_binary = cv2.threshold(depth_map_gray, 0, 1, cv2.THRESH_BINARY)[1].astype(np.uint8)\n",
    "    depth_map_binary = cv2.medianBlur(depth_map_binary.astype(np.float32), 5)\n",
    "    depth_map_rgba = cv2.cvtColor(depth_map, cv2.COLOR_RGB2RGBA)\n",
    "    depth_map_rgba[depth_map_binary == 0] = (0, 0, 0, 0)\n",
    "    depth_map_rgba = Image.fromarray(depth_map_rgba.astype(np.uint8))\n",
    "    image = depth_map_rgba.copy()"
   ]
  },
  {
   "cell_type": "code",
   "execution_count": 386,
   "id": "51d7de8c",
   "metadata": {},
   "outputs": [
    {
     "name": "stdout",
     "output_type": "stream",
     "text": [
      "[INFO] Image prompt for Hunyuan3D:\n"
     ]
    },
    {
     "data": {
      "image/png": "[encoded data removed]",
      "text/plain": [
       "<Figure size 640x480 with 1 Axes>"
      ]
     },
     "metadata": {},
     "output_type": "display_data"
    }
   ],
   "source": [
    "print(\"[INFO] Image prompt for Hunyuan3D:\")\n",
    "plt.imshow(image)\n",
    "plt.axis('off')\n",
    "plt.show()\n",
    "image.save(os.path.join(output_dir, f\"{prompt_tag}_img_prompt.png\"))"
   ]
  },
  {
   "cell_type": "code",
   "execution_count": 387,
   "id": "95d422f5",
   "metadata": {},
   "outputs": [
    {
     "name": "stdout",
     "output_type": "stream",
     "text": [
      "[INFO] Background removed, now generating mesh using Hunyuan3D...\n"
     ]
    },
    {
     "name": "stderr",
     "output_type": "stream",
     "text": [
      "Diffusion Sampling:: 100%|██████████| 50/50 [00:08<00:00,  6.09it/s]\n",
      "Volume Decoding: 100%|██████████| 7134/7134 [00:15<00:00, 451.15it/s]\n"
     ]
    },
    {
     "name": "stdout",
     "output_type": "stream",
     "text": [
      "[INFO] Saving mesh...\n",
      "Mesh saved to ./output_shapenet/complete_mesh_chair_f0f9048f45eed1ab3a8888e78d004b3.ply\n"
     ]
    }
   ],
   "source": [
    "print(\"[INFO] Background removed, now generating mesh using Hunyuan3D...\")\n",
    "mesh = hunyuan3D_mesh_pipe(image=image,\n",
    "                      num_inference_steps=args.inference_steps,\n",
    "                      guidance_scale = 4.5,\n",
    "                      text_prompt=text_prompt,\n",
    "                      )[0]\n",
    "# print(\"[INFO] Mesh generated, now generating texture using Hunyuan3D...\")\n",
    "# mesh = hunyuan3D_paint_pipe(mesh=mesh,\n",
    "#                             image=image_nobg,\n",
    "#                             )[0]\n",
    "# Save the mesh to a file\n",
    "print(\"[INFO] Saving mesh...\")\n",
    "mesh.export(os.path.join(output_dir, f\"complete_mesh_{args.category}_{obj_id}.ply\"))\n",
    "print(f\"Mesh saved to {os.path.join(output_dir, f'complete_mesh_{args.category}_{obj_id}.ply')}\")\n"
   ]
  },
  {
   "cell_type": "code",
   "execution_count": 388,
   "id": "321474b5",
   "metadata": {},
   "outputs": [
    {
     "name": "stdout",
     "output_type": "stream",
     "text": [
      "[INFO] Visualizing mesh...\n",
      "[Open3D INFO] Window window_108 created.\n"
     ]
    },
    {
     "data": {
      "application/vnd.jupyter.widget-view+json": {
       "model_id": "0bf658ba01c9463fa24c5212dc0e456a",
       "version_major": 2,
       "version_minor": 0
      },
      "text/plain": [
       "WebVisualizer(window_uid='window_108')"
      ]
     },
     "metadata": {},
     "output_type": "display_data"
    }
   ],
   "source": [
    "\n",
    "\n",
    "# Visualize the mesh\n",
    "print(\"[INFO] Visualizing mesh...\")\n",
    "mesh = o3d.io.read_triangle_mesh(os.path.join(output_dir, f\"complete_mesh_{args.category}_{obj_id}.ply\"))\n",
    "mesh.vertices = o3d.utility.Vector3dVector(np.asarray(mesh.vertices) * np.array([-1, 1, 1]))\n",
    "\n",
    "draw([mesh])\n"
   ]
  },
  {
   "cell_type": "code",
   "execution_count": 389,
   "id": "c8d1a7f9",
   "metadata": {},
   "outputs": [
    {
     "name": "stdout",
     "output_type": "stream",
     "text": [
      "[INFO] Registering mesh to original point cloud...\n"
     ]
    },
    {
     "name": "stdout",
     "output_type": "stream",
     "text": [
      "[Open3D INFO] Skipping non-triangle primitive geometry of type: 2\n",
      "[Open3D INFO] Window window_109 created.\n"
     ]
    },
    {
     "data": {
      "application/vnd.jupyter.widget-view+json": {
       "model_id": "f9fd1688c71149fc88909f3caefde49a",
       "version_major": 2,
       "version_minor": 0
      },
      "text/plain": [
       "WebVisualizer(window_uid='window_109')"
      ]
     },
     "metadata": {},
     "output_type": "display_data"
    }
   ],
   "source": [
    "# Register the mesh to the original point cloud\n",
    "print(\"[INFO] Registering mesh to original point cloud...\")\n",
    "\n",
    "# np.random.seed(42)\n",
    "# obj_id = 'a2c9c1b4bf918cf6d2dcdf586ee56d5a'\n",
    "\n",
    "# Load the ground truth mesh\n",
    "mesh_pcl = np.loadtxt(os.path.join(output_dir, f\"mesh_pcl_{args.category}_{obj_id}.xyz\"))\n",
    "complete_pcd = o3d.geometry.PointCloud()\n",
    "complete_pcd.points = o3d.utility.Vector3dVector(mesh_pcl)\n",
    "\n",
    "# Load the partial point cloud\n",
    "partial_pcl = np.loadtxt(os.path.join(output_dir, f\"partial_pcl_{args.category}_{obj_id}.xyz\"))\n",
    "partial_pcd = o3d.geometry.PointCloud()\n",
    "partial_pcd.points = o3d.utility.Vector3dVector(partial_pcl)\n",
    "\n",
    "# Load the generated mesh\n",
    "mesh = o3d.io.read_triangle_mesh(os.path.join(output_dir, f\"complete_mesh_{args.category}_{obj_id}.ply\"))\n",
    "# Normalize the mesh\n",
    "mesh = mesh.translate(-mesh.get_center())\n",
    "mesh = mesh.scale(0.5 / np.max(np.linalg.norm(np.asarray(mesh.vertices), axis=1)), center=mesh.get_center())\n",
    "mesh_pcd = mesh.sample_points_uniformly(number_of_points=16384)\n",
    "mesh_pcd.points = o3d.utility.Vector3dVector(np.asarray(mesh_pcd.points) * np.array([-1, 1, 1]))\n",
    "\n",
    "mesh_pcd.paint_uniform_color([1, 0, 0])\n",
    "partial_pcd.paint_uniform_color([0.5, 0.5, 0.5])\n",
    "# complete_pcd.paint_uniform_color([0, 1, 0])\n",
    "gt_mesh = o3d.io.read_triangle_mesh(obj_dir)\n",
    "# draw([gt_mesh])\n",
    "# draw([partial_pcd])\n",
    "draw([mesh_pcd, partial_pcd])"
   ]
  },
  {
   "cell_type": "code",
   "execution_count": null,
   "id": "b05e4893",
   "metadata": {},
   "outputs": [
    {
     "name": "stdout",
     "output_type": "stream",
     "text": [
      "Target point cloud shape: torch.Size([4096, 3])\n",
      "Source point cloud shape: torch.Size([4096, 3])\n",
      "Trainable parameters:\n",
      "Stage 1: Joint optimization of rotation, translation, and scale\n",
      "Iteration    0: Loss = 0.006823\n",
      "Iteration  100: Loss = 0.000633\n",
      "Iteration  200: Loss = 0.000317\n",
      "Iteration  300: Loss = 0.000250\n",
      "Iteration  400: Loss = 0.000222\n",
      "Optimization complete.\n",
      "Learned rotation angles (radians): [array(0., dtype=float32), array(3.1350133, dtype=float32), array(0., dtype=float32)]\n",
      "Learned translation: [-0.00106674 -0.00598452  0.0568362 ]\n",
      "Learned scale: [1.1762449]\n",
      "Chamfer Distance: 0.014480179551994604\n"
     ]
    }
   ],
   "source": [
    "\n",
    "from utils.gd_register_utils import gd_registration_shapenet as gd_registration\n",
    "mesh_pcd = gd_registration(mesh_pcd, \n",
    "                           partial_pcd, \n",
    "                           fps_sample=4096, \n",
    "                           num_iterations=500,\n",
    "                           device='cuda', \n",
    "                           learning_rate=0.8,\n",
    "                           stage2=False,\n",
    "                           learn_alpha=False,\n",
    "                            learn_beta=True,\n",
    "                            learn_gamma=False,\n",
    "                            learn_scale=True,\n",
    "                            learn_translation=True,\n",
    "                        #    isotropic_scale=False\n",
    "                           )\n",
    "\n",
    "# Compute the chamfer distance\n",
    "cd_o3d = (np.mean(complete_pcd.compute_point_cloud_distance(mesh_pcd)) + \\\n",
    "    np.mean(mesh_pcd.compute_point_cloud_distance(complete_pcd))) / 2\n",
    "print(f\"Chamfer Distance: {cd_o3d}\")"
   ]
  },
  {
   "cell_type": "code",
   "execution_count": 391,
   "id": "070a8e37",
   "metadata": {},
   "outputs": [
    {
     "name": "stdout",
     "output_type": "stream",
     "text": [
      "[Open3D INFO] Window window_110 created.\n"
     ]
    },
    {
     "data": {
      "application/vnd.jupyter.widget-view+json": {
       "model_id": "e12dde46dd38482b87d36b40cb827167",
       "version_major": 2,
       "version_minor": 0
      },
      "text/plain": [
       "WebVisualizer(window_uid='window_110')"
      ]
     },
     "metadata": {},
     "output_type": "display_data"
    },
    {
     "name": "stdout",
     "output_type": "stream",
     "text": [
      "[Open3D INFO] Window window_111 created.\n"
     ]
    },
    {
     "data": {
      "application/vnd.jupyter.widget-view+json": {
       "model_id": "156b0805455b4064bb45915500a5a2b5",
       "version_major": 2,
       "version_minor": 0
      },
      "text/plain": [
       "WebVisualizer(window_uid='window_111')"
      ]
     },
     "metadata": {},
     "output_type": "display_data"
    }
   ],
   "source": [
    "partial_pcd.paint_uniform_color([0.5, 0, 0])\n",
    "mesh_pcd.paint_uniform_color([0.5, 0.5, 0.5])\n",
    "complete_pcd.paint_uniform_color([0.0, 0.0, 0.6])\n",
    "draw([mesh_pcd, partial_pcd])\n",
    "draw([mesh_pcd, complete_pcd])"
   ]
  },
  {
   "cell_type": "code",
   "execution_count": 392,
   "id": "4ef89507",
   "metadata": {},
   "outputs": [
    {
     "name": "stdout",
     "output_type": "stream",
     "text": [
      "[INFO] Total run time: 49.97 seconds\n"
     ]
    }
   ],
   "source": [
    "# Show run time\n",
    "end_time = time.time()\n",
    "print(f\"[INFO] Total run time: {end_time - start_time:.2f} seconds\")"
   ]
  },
  {
   "cell_type": "code",
   "execution_count": null,
   "id": "f90421c8",
   "metadata": {},
   "outputs": [],
   "source": []
  },
  {
   "cell_type": "code",
   "execution_count": null,
   "id": "8d2b139c",
   "metadata": {},
   "outputs": [],
   "source": []
  }
 ],
 "metadata": {
  "kernelspec": {
   "display_name": "LGM",
   "language": "python",
   "name": "python3"
  },
  "language_info": {
   "codemirror_mode": {
    "name": "ipython",
    "version": 3
   },
   "file_extension": ".py",
   "mimetype": "text/x-python",
   "name": "python",
   "nbconvert_exporter": "python",
   "pygments_lexer": "ipython3",
   "version": "3.11.5"
  }
 },
 "nbformat": 4,
 "nbformat_minor": 5
}
